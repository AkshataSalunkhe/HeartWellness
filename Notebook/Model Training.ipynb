{
 "cells": [
  {
   "cell_type": "markdown",
   "metadata": {},
   "source": [
    "# Model Training for Heart Disease"
   ]
  },
  {
   "cell_type": "markdown",
   "metadata": {},
   "source": [
    "In this notebook we will predict the person is likely to have heart disease(1) or not(0)"
   ]
  },
  {
   "cell_type": "code",
   "execution_count": 1,
   "metadata": {},
   "outputs": [],
   "source": [
    "import pandas as pd\n",
    "import numpy as np\n",
    "from sklearn.model_selection import train_test_split\n",
    "from sklearn.pipeline import Pipeline\n",
    "from sklearn.preprocessing import StandardScaler\n",
    "from sklearn.preprocessing import OneHotEncoder\n",
    "from sklearn.impute import SimpleImputer\n",
    "from sklearn.compose import ColumnTransformer"
   ]
  },
  {
   "cell_type": "code",
   "execution_count": 2,
   "metadata": {},
   "outputs": [],
   "source": [
    "df = pd.read_csv(\"C:/HealthWellness/Notebook/data/heart.csv\")"
   ]
  },
  {
   "cell_type": "code",
   "execution_count": 3,
   "metadata": {},
   "outputs": [
    {
     "data": {
      "text/html": [
       "<div>\n",
       "<style scoped>\n",
       "    .dataframe tbody tr th:only-of-type {\n",
       "        vertical-align: middle;\n",
       "    }\n",
       "\n",
       "    .dataframe tbody tr th {\n",
       "        vertical-align: top;\n",
       "    }\n",
       "\n",
       "    .dataframe thead th {\n",
       "        text-align: right;\n",
       "    }\n",
       "</style>\n",
       "<table border=\"1\" class=\"dataframe\">\n",
       "  <thead>\n",
       "    <tr style=\"text-align: right;\">\n",
       "      <th></th>\n",
       "      <th>Age</th>\n",
       "      <th>Sex</th>\n",
       "      <th>ChestPainType</th>\n",
       "      <th>RestingBP</th>\n",
       "      <th>Cholesterol</th>\n",
       "      <th>FastingBS</th>\n",
       "      <th>RestingECG</th>\n",
       "      <th>MaxHR</th>\n",
       "      <th>ExerciseAngina</th>\n",
       "      <th>Oldpeak</th>\n",
       "      <th>ST_Slope</th>\n",
       "      <th>HeartDisease</th>\n",
       "    </tr>\n",
       "  </thead>\n",
       "  <tbody>\n",
       "    <tr>\n",
       "      <th>0</th>\n",
       "      <td>40</td>\n",
       "      <td>M</td>\n",
       "      <td>ATA</td>\n",
       "      <td>140</td>\n",
       "      <td>289</td>\n",
       "      <td>0</td>\n",
       "      <td>Normal</td>\n",
       "      <td>172</td>\n",
       "      <td>N</td>\n",
       "      <td>0.0</td>\n",
       "      <td>Up</td>\n",
       "      <td>0</td>\n",
       "    </tr>\n",
       "    <tr>\n",
       "      <th>1</th>\n",
       "      <td>49</td>\n",
       "      <td>F</td>\n",
       "      <td>NAP</td>\n",
       "      <td>160</td>\n",
       "      <td>180</td>\n",
       "      <td>0</td>\n",
       "      <td>Normal</td>\n",
       "      <td>156</td>\n",
       "      <td>N</td>\n",
       "      <td>1.0</td>\n",
       "      <td>Flat</td>\n",
       "      <td>1</td>\n",
       "    </tr>\n",
       "    <tr>\n",
       "      <th>2</th>\n",
       "      <td>37</td>\n",
       "      <td>M</td>\n",
       "      <td>ATA</td>\n",
       "      <td>130</td>\n",
       "      <td>283</td>\n",
       "      <td>0</td>\n",
       "      <td>ST</td>\n",
       "      <td>98</td>\n",
       "      <td>N</td>\n",
       "      <td>0.0</td>\n",
       "      <td>Up</td>\n",
       "      <td>0</td>\n",
       "    </tr>\n",
       "    <tr>\n",
       "      <th>3</th>\n",
       "      <td>48</td>\n",
       "      <td>F</td>\n",
       "      <td>ASY</td>\n",
       "      <td>138</td>\n",
       "      <td>214</td>\n",
       "      <td>0</td>\n",
       "      <td>Normal</td>\n",
       "      <td>108</td>\n",
       "      <td>Y</td>\n",
       "      <td>1.5</td>\n",
       "      <td>Flat</td>\n",
       "      <td>1</td>\n",
       "    </tr>\n",
       "    <tr>\n",
       "      <th>4</th>\n",
       "      <td>54</td>\n",
       "      <td>M</td>\n",
       "      <td>NAP</td>\n",
       "      <td>150</td>\n",
       "      <td>195</td>\n",
       "      <td>0</td>\n",
       "      <td>Normal</td>\n",
       "      <td>122</td>\n",
       "      <td>N</td>\n",
       "      <td>0.0</td>\n",
       "      <td>Up</td>\n",
       "      <td>0</td>\n",
       "    </tr>\n",
       "  </tbody>\n",
       "</table>\n",
       "</div>"
      ],
      "text/plain": [
       "   Age Sex ChestPainType  RestingBP  Cholesterol  FastingBS RestingECG  MaxHR  \\\n",
       "0   40   M           ATA        140          289          0     Normal    172   \n",
       "1   49   F           NAP        160          180          0     Normal    156   \n",
       "2   37   M           ATA        130          283          0         ST     98   \n",
       "3   48   F           ASY        138          214          0     Normal    108   \n",
       "4   54   M           NAP        150          195          0     Normal    122   \n",
       "\n",
       "  ExerciseAngina  Oldpeak ST_Slope  HeartDisease  \n",
       "0              N      0.0       Up             0  \n",
       "1              N      1.0     Flat             1  \n",
       "2              N      0.0       Up             0  \n",
       "3              Y      1.5     Flat             1  \n",
       "4              N      0.0       Up             0  "
      ]
     },
     "execution_count": 3,
     "metadata": {},
     "output_type": "execute_result"
    }
   ],
   "source": [
    "df.head()"
   ]
  },
  {
   "cell_type": "code",
   "execution_count": 4,
   "metadata": {},
   "outputs": [],
   "source": [
    "train, test=train_test_split(df, test_size=0.3)"
   ]
  },
  {
   "cell_type": "code",
   "execution_count": 5,
   "metadata": {},
   "outputs": [],
   "source": [
    "train_y=train[['HeartDisease']]\n",
    "test_y=test[['HeartDisease']]"
   ]
  },
  {
   "cell_type": "code",
   "execution_count": 6,
   "metadata": {},
   "outputs": [],
   "source": [
    "train_inputs=train.drop(['HeartDisease'],axis=1)\n",
    "test_inputs=test.drop(['HeartDisease'],axis=1)"
   ]
  },
  {
   "cell_type": "code",
   "execution_count": 7,
   "metadata": {},
   "outputs": [],
   "source": [
    "# Categorizing columns based on data type\n",
    "categorical_columns = df.select_dtypes(include=['object', 'category']).columns.to_list()\n",
    "binary_columns = ['FastingBS']\n",
    "numeric_columns = df.select_dtypes(include=['number']).columns.to_list()"
   ]
  },
  {
   "cell_type": "code",
   "execution_count": 8,
   "metadata": {},
   "outputs": [],
   "source": [
    "numeric_columns.remove('FastingBS')"
   ]
  },
  {
   "cell_type": "code",
   "execution_count": 9,
   "metadata": {},
   "outputs": [],
   "source": [
    "numeric_columns.remove('HeartDisease')"
   ]
  },
  {
   "cell_type": "code",
   "execution_count": 10,
   "metadata": {},
   "outputs": [
    {
     "data": {
      "text/plain": [
       "['Sex', 'ChestPainType', 'RestingECG', 'ExerciseAngina', 'ST_Slope']"
      ]
     },
     "execution_count": 10,
     "metadata": {},
     "output_type": "execute_result"
    }
   ],
   "source": [
    "categorical_columns"
   ]
  },
  {
   "cell_type": "code",
   "execution_count": 11,
   "metadata": {},
   "outputs": [
    {
     "data": {
      "text/plain": [
       "['Age', 'RestingBP', 'Cholesterol', 'MaxHR', 'Oldpeak']"
      ]
     },
     "execution_count": 11,
     "metadata": {},
     "output_type": "execute_result"
    }
   ],
   "source": [
    "numeric_columns"
   ]
  },
  {
   "cell_type": "code",
   "execution_count": 12,
   "metadata": {},
   "outputs": [
    {
     "data": {
      "text/plain": [
       "['FastingBS']"
      ]
     },
     "execution_count": 12,
     "metadata": {},
     "output_type": "execute_result"
    }
   ],
   "source": [
    "binary_columns"
   ]
  },
  {
   "cell_type": "markdown",
   "metadata": {},
   "source": [
    "### Pipeline"
   ]
  },
  {
   "cell_type": "code",
   "execution_count": 13,
   "metadata": {},
   "outputs": [],
   "source": [
    "numeric_transformer = Pipeline(steps=[('scaler',StandardScaler())])\n",
    "categorical_transformer = Pipeline(steps=[('onehot',OneHotEncoder(handle_unknown='ignore'))])\n",
    "binary_transformer = Pipeline(steps=[('imputer', SimpleImputer(strategy='most_frequent'))])"
   ]
  },
  {
   "cell_type": "code",
   "execution_count": 14,
   "metadata": {},
   "outputs": [],
   "source": [
    "preprocessor = ColumnTransformer([\n",
    "        ('num', numeric_transformer, numeric_columns),\n",
    "        ('cat', categorical_transformer, categorical_columns),\n",
    "        ('binary', binary_transformer, binary_columns)],\n",
    "        remainder='drop')"
   ]
  },
  {
   "cell_type": "code",
   "execution_count": 16,
   "metadata": {},
   "outputs": [
    {
     "data": {
      "text/plain": [
       "array([[-1.41692469, -0.1364862 ,  0.67001975, ...,  0.        ,\n",
       "         1.        ,  0.        ],\n",
       "       [ 1.15033491,  0.50271724,  0.67929248, ...,  1.        ,\n",
       "         0.        ,  0.        ],\n",
       "       [ 1.57821151,  0.12984857, -1.87998105, ...,  0.        ,\n",
       "         1.        ,  0.        ],\n",
       "       ...,\n",
       "       [-1.41692469, -0.40282096, -1.87998105, ...,  1.        ,\n",
       "         0.        ,  1.        ],\n",
       "       [ 1.04336576, -1.73449479, -1.87998105, ...,  1.        ,\n",
       "         0.        ,  1.        ],\n",
       "       [-0.66814064,  1.4615224 ,  0.81838344, ...,  1.        ,\n",
       "         0.        ,  0.        ]])"
      ]
     },
     "execution_count": 16,
     "metadata": {},
     "output_type": "execute_result"
    }
   ],
   "source": [
    "#Fit and transform the train data\n",
    "train_x = preprocessor.fit_transform(train_inputs)\n",
    "\n",
    "train_x"
   ]
  },
  {
   "cell_type": "code",
   "execution_count": 17,
   "metadata": {},
   "outputs": [
    {
     "data": {
      "text/plain": [
       "(642, 20)"
      ]
     },
     "execution_count": 17,
     "metadata": {},
     "output_type": "execute_result"
    }
   ],
   "source": [
    "train_x.shape"
   ]
  },
  {
   "cell_type": "code",
   "execution_count": 18,
   "metadata": {},
   "outputs": [
    {
     "data": {
      "text/plain": [
       "array([[ 1.15033491, -0.40282096,  0.98529258, ...,  1.        ,\n",
       "         0.        ,  0.        ],\n",
       "       [-0.34723319, -0.9354905 , -1.87998105, ...,  1.        ,\n",
       "         0.        ,  0.        ],\n",
       "       [-1.52389384, -0.66915573,  0.35474693, ...,  0.        ,\n",
       "         1.        ,  0.        ],\n",
       "       ...,\n",
       "       [ 0.40155086,  0.39618334,  0.57729245, ...,  1.        ,\n",
       "         0.        ,  0.        ],\n",
       "       [-0.13329489, -0.66915573,  0.06729229, ...,  0.        ,\n",
       "         1.        ,  0.        ],\n",
       "       [-0.77510979, -0.9354905 , -1.87998105, ...,  1.        ,\n",
       "         0.        ,  0.        ]])"
      ]
     },
     "execution_count": 18,
     "metadata": {},
     "output_type": "execute_result"
    }
   ],
   "source": [
    "# Transform the test data\n",
    "test_x = preprocessor.transform(test_inputs)\n",
    "\n",
    "test_x"
   ]
  },
  {
   "cell_type": "code",
   "execution_count": 19,
   "metadata": {},
   "outputs": [
    {
     "data": {
      "text/plain": [
       "(276, 20)"
      ]
     },
     "execution_count": 19,
     "metadata": {},
     "output_type": "execute_result"
    }
   ],
   "source": [
    "test_x.shape"
   ]
  },
  {
   "cell_type": "markdown",
   "metadata": {},
   "source": [
    "### Baseline"
   ]
  },
  {
   "cell_type": "code",
   "execution_count": 20,
   "metadata": {},
   "outputs": [
    {
     "data": {
      "text/html": [
       "<style>#sk-container-id-1 {color: black;}#sk-container-id-1 pre{padding: 0;}#sk-container-id-1 div.sk-toggleable {background-color: white;}#sk-container-id-1 label.sk-toggleable__label {cursor: pointer;display: block;width: 100%;margin-bottom: 0;padding: 0.3em;box-sizing: border-box;text-align: center;}#sk-container-id-1 label.sk-toggleable__label-arrow:before {content: \"▸\";float: left;margin-right: 0.25em;color: #696969;}#sk-container-id-1 label.sk-toggleable__label-arrow:hover:before {color: black;}#sk-container-id-1 div.sk-estimator:hover label.sk-toggleable__label-arrow:before {color: black;}#sk-container-id-1 div.sk-toggleable__content {max-height: 0;max-width: 0;overflow: hidden;text-align: left;background-color: #f0f8ff;}#sk-container-id-1 div.sk-toggleable__content pre {margin: 0.2em;color: black;border-radius: 0.25em;background-color: #f0f8ff;}#sk-container-id-1 input.sk-toggleable__control:checked~div.sk-toggleable__content {max-height: 200px;max-width: 100%;overflow: auto;}#sk-container-id-1 input.sk-toggleable__control:checked~label.sk-toggleable__label-arrow:before {content: \"▾\";}#sk-container-id-1 div.sk-estimator input.sk-toggleable__control:checked~label.sk-toggleable__label {background-color: #d4ebff;}#sk-container-id-1 div.sk-label input.sk-toggleable__control:checked~label.sk-toggleable__label {background-color: #d4ebff;}#sk-container-id-1 input.sk-hidden--visually {border: 0;clip: rect(1px 1px 1px 1px);clip: rect(1px, 1px, 1px, 1px);height: 1px;margin: -1px;overflow: hidden;padding: 0;position: absolute;width: 1px;}#sk-container-id-1 div.sk-estimator {font-family: monospace;background-color: #f0f8ff;border: 1px dotted black;border-radius: 0.25em;box-sizing: border-box;margin-bottom: 0.5em;}#sk-container-id-1 div.sk-estimator:hover {background-color: #d4ebff;}#sk-container-id-1 div.sk-parallel-item::after {content: \"\";width: 100%;border-bottom: 1px solid gray;flex-grow: 1;}#sk-container-id-1 div.sk-label:hover label.sk-toggleable__label {background-color: #d4ebff;}#sk-container-id-1 div.sk-serial::before {content: \"\";position: absolute;border-left: 1px solid gray;box-sizing: border-box;top: 0;bottom: 0;left: 50%;z-index: 0;}#sk-container-id-1 div.sk-serial {display: flex;flex-direction: column;align-items: center;background-color: white;padding-right: 0.2em;padding-left: 0.2em;position: relative;}#sk-container-id-1 div.sk-item {position: relative;z-index: 1;}#sk-container-id-1 div.sk-parallel {display: flex;align-items: stretch;justify-content: center;background-color: white;position: relative;}#sk-container-id-1 div.sk-item::before, #sk-container-id-1 div.sk-parallel-item::before {content: \"\";position: absolute;border-left: 1px solid gray;box-sizing: border-box;top: 0;bottom: 0;left: 50%;z-index: -1;}#sk-container-id-1 div.sk-parallel-item {display: flex;flex-direction: column;z-index: 1;position: relative;background-color: white;}#sk-container-id-1 div.sk-parallel-item:first-child::after {align-self: flex-end;width: 50%;}#sk-container-id-1 div.sk-parallel-item:last-child::after {align-self: flex-start;width: 50%;}#sk-container-id-1 div.sk-parallel-item:only-child::after {width: 0;}#sk-container-id-1 div.sk-dashed-wrapped {border: 1px dashed gray;margin: 0 0.4em 0.5em 0.4em;box-sizing: border-box;padding-bottom: 0.4em;background-color: white;}#sk-container-id-1 div.sk-label label {font-family: monospace;font-weight: bold;display: inline-block;line-height: 1.2em;}#sk-container-id-1 div.sk-label-container {text-align: center;}#sk-container-id-1 div.sk-container {/* jupyter's `normalize.less` sets `[hidden] { display: none; }` but bootstrap.min.css set `[hidden] { display: none !important; }` so we also need the `!important` here to be able to override the default hidden behavior on the sphinx rendered scikit-learn.org. See: https://github.com/scikit-learn/scikit-learn/issues/21755 */display: inline-block !important;position: relative;}#sk-container-id-1 div.sk-text-repr-fallback {display: none;}</style><div id=\"sk-container-id-1\" class=\"sk-top-container\"><div class=\"sk-text-repr-fallback\"><pre>DummyClassifier(strategy=&#x27;most_frequent&#x27;)</pre><b>In a Jupyter environment, please rerun this cell to show the HTML representation or trust the notebook. <br />On GitHub, the HTML representation is unable to render, please try loading this page with nbviewer.org.</b></div><div class=\"sk-container\" hidden><div class=\"sk-item\"><div class=\"sk-estimator sk-toggleable\"><input class=\"sk-toggleable__control sk-hidden--visually\" id=\"sk-estimator-id-1\" type=\"checkbox\" checked><label for=\"sk-estimator-id-1\" class=\"sk-toggleable__label sk-toggleable__label-arrow\">DummyClassifier</label><div class=\"sk-toggleable__content\"><pre>DummyClassifier(strategy=&#x27;most_frequent&#x27;)</pre></div></div></div></div></div>"
      ],
      "text/plain": [
       "DummyClassifier(strategy='most_frequent')"
      ]
     },
     "execution_count": 20,
     "metadata": {},
     "output_type": "execute_result"
    }
   ],
   "source": [
    "from sklearn.dummy import DummyClassifier\n",
    "\n",
    "dummy_clf = DummyClassifier(strategy=\"most_frequent\")\n",
    "\n",
    "dummy_clf.fit(train_x, train_y)"
   ]
  },
  {
   "cell_type": "code",
   "execution_count": 21,
   "metadata": {},
   "outputs": [],
   "source": [
    "from sklearn.metrics import accuracy_score"
   ]
  },
  {
   "cell_type": "code",
   "execution_count": 22,
   "metadata": {},
   "outputs": [
    {
     "name": "stdout",
     "output_type": "stream",
     "text": [
      "Baseline Train Accuracy: 0.5389408099688473\n"
     ]
    }
   ],
   "source": [
    "#Baseline Train Accuracy\n",
    "dummy_train_pred = dummy_clf.predict(train_x)\n",
    "\n",
    "baseline_train_acc = accuracy_score(train_y, dummy_train_pred)\n",
    "\n",
    "print('Baseline Train Accuracy: {}' .format(baseline_train_acc))"
   ]
  },
  {
   "cell_type": "code",
   "execution_count": 23,
   "metadata": {},
   "outputs": [
    {
     "name": "stdout",
     "output_type": "stream",
     "text": [
      "Baseline Test Accuracy: 0.5869565217391305\n"
     ]
    }
   ],
   "source": [
    "#Baseline Test Accuracy\n",
    "dummy_test_pred = dummy_clf.predict(test_x)\n",
    "\n",
    "baseline_test_acc = accuracy_score(test_y, dummy_test_pred)\n",
    "\n",
    "print('Baseline Test Accuracy: {}' .format(baseline_test_acc))"
   ]
  },
  {
   "cell_type": "markdown",
   "metadata": {},
   "source": [
    "### Training Logistic Regression"
   ]
  },
  {
   "cell_type": "code",
   "execution_count": 24,
   "metadata": {},
   "outputs": [
    {
     "name": "stderr",
     "output_type": "stream",
     "text": [
      "c:\\ProgramData\\anaconda3\\Lib\\site-packages\\sklearn\\linear_model\\_logistic.py:1182: FutureWarning: `penalty='none'`has been deprecated in 1.2 and will be removed in 1.4. To keep the past behaviour, set `penalty=None`.\n",
      "  warnings.warn(\n",
      "c:\\ProgramData\\anaconda3\\Lib\\site-packages\\sklearn\\utils\\validation.py:1184: DataConversionWarning: A column-vector y was passed when a 1d array was expected. Please change the shape of y to (n_samples, ), for example using ravel().\n",
      "  y = column_or_1d(y, warn=True)\n"
     ]
    },
    {
     "data": {
      "text/html": [
       "<style>#sk-container-id-2 {color: black;}#sk-container-id-2 pre{padding: 0;}#sk-container-id-2 div.sk-toggleable {background-color: white;}#sk-container-id-2 label.sk-toggleable__label {cursor: pointer;display: block;width: 100%;margin-bottom: 0;padding: 0.3em;box-sizing: border-box;text-align: center;}#sk-container-id-2 label.sk-toggleable__label-arrow:before {content: \"▸\";float: left;margin-right: 0.25em;color: #696969;}#sk-container-id-2 label.sk-toggleable__label-arrow:hover:before {color: black;}#sk-container-id-2 div.sk-estimator:hover label.sk-toggleable__label-arrow:before {color: black;}#sk-container-id-2 div.sk-toggleable__content {max-height: 0;max-width: 0;overflow: hidden;text-align: left;background-color: #f0f8ff;}#sk-container-id-2 div.sk-toggleable__content pre {margin: 0.2em;color: black;border-radius: 0.25em;background-color: #f0f8ff;}#sk-container-id-2 input.sk-toggleable__control:checked~div.sk-toggleable__content {max-height: 200px;max-width: 100%;overflow: auto;}#sk-container-id-2 input.sk-toggleable__control:checked~label.sk-toggleable__label-arrow:before {content: \"▾\";}#sk-container-id-2 div.sk-estimator input.sk-toggleable__control:checked~label.sk-toggleable__label {background-color: #d4ebff;}#sk-container-id-2 div.sk-label input.sk-toggleable__control:checked~label.sk-toggleable__label {background-color: #d4ebff;}#sk-container-id-2 input.sk-hidden--visually {border: 0;clip: rect(1px 1px 1px 1px);clip: rect(1px, 1px, 1px, 1px);height: 1px;margin: -1px;overflow: hidden;padding: 0;position: absolute;width: 1px;}#sk-container-id-2 div.sk-estimator {font-family: monospace;background-color: #f0f8ff;border: 1px dotted black;border-radius: 0.25em;box-sizing: border-box;margin-bottom: 0.5em;}#sk-container-id-2 div.sk-estimator:hover {background-color: #d4ebff;}#sk-container-id-2 div.sk-parallel-item::after {content: \"\";width: 100%;border-bottom: 1px solid gray;flex-grow: 1;}#sk-container-id-2 div.sk-label:hover label.sk-toggleable__label {background-color: #d4ebff;}#sk-container-id-2 div.sk-serial::before {content: \"\";position: absolute;border-left: 1px solid gray;box-sizing: border-box;top: 0;bottom: 0;left: 50%;z-index: 0;}#sk-container-id-2 div.sk-serial {display: flex;flex-direction: column;align-items: center;background-color: white;padding-right: 0.2em;padding-left: 0.2em;position: relative;}#sk-container-id-2 div.sk-item {position: relative;z-index: 1;}#sk-container-id-2 div.sk-parallel {display: flex;align-items: stretch;justify-content: center;background-color: white;position: relative;}#sk-container-id-2 div.sk-item::before, #sk-container-id-2 div.sk-parallel-item::before {content: \"\";position: absolute;border-left: 1px solid gray;box-sizing: border-box;top: 0;bottom: 0;left: 50%;z-index: -1;}#sk-container-id-2 div.sk-parallel-item {display: flex;flex-direction: column;z-index: 1;position: relative;background-color: white;}#sk-container-id-2 div.sk-parallel-item:first-child::after {align-self: flex-end;width: 50%;}#sk-container-id-2 div.sk-parallel-item:last-child::after {align-self: flex-start;width: 50%;}#sk-container-id-2 div.sk-parallel-item:only-child::after {width: 0;}#sk-container-id-2 div.sk-dashed-wrapped {border: 1px dashed gray;margin: 0 0.4em 0.5em 0.4em;box-sizing: border-box;padding-bottom: 0.4em;background-color: white;}#sk-container-id-2 div.sk-label label {font-family: monospace;font-weight: bold;display: inline-block;line-height: 1.2em;}#sk-container-id-2 div.sk-label-container {text-align: center;}#sk-container-id-2 div.sk-container {/* jupyter's `normalize.less` sets `[hidden] { display: none; }` but bootstrap.min.css set `[hidden] { display: none !important; }` so we also need the `!important` here to be able to override the default hidden behavior on the sphinx rendered scikit-learn.org. See: https://github.com/scikit-learn/scikit-learn/issues/21755 */display: inline-block !important;position: relative;}#sk-container-id-2 div.sk-text-repr-fallback {display: none;}</style><div id=\"sk-container-id-2\" class=\"sk-top-container\"><div class=\"sk-text-repr-fallback\"><pre>LogisticRegression(penalty=&#x27;none&#x27;)</pre><b>In a Jupyter environment, please rerun this cell to show the HTML representation or trust the notebook. <br />On GitHub, the HTML representation is unable to render, please try loading this page with nbviewer.org.</b></div><div class=\"sk-container\" hidden><div class=\"sk-item\"><div class=\"sk-estimator sk-toggleable\"><input class=\"sk-toggleable__control sk-hidden--visually\" id=\"sk-estimator-id-2\" type=\"checkbox\" checked><label for=\"sk-estimator-id-2\" class=\"sk-toggleable__label sk-toggleable__label-arrow\">LogisticRegression</label><div class=\"sk-toggleable__content\"><pre>LogisticRegression(penalty=&#x27;none&#x27;)</pre></div></div></div></div></div>"
      ],
      "text/plain": [
       "LogisticRegression(penalty='none')"
      ]
     },
     "execution_count": 24,
     "metadata": {},
     "output_type": "execute_result"
    }
   ],
   "source": [
    "from sklearn.linear_model import LogisticRegression\n",
    "\n",
    "log_reg = LogisticRegression(penalty='none')\n",
    "\n",
    "log_reg.fit(train_x, train_y)"
   ]
  },
  {
   "cell_type": "markdown",
   "metadata": {},
   "source": [
    "### Predicted vs actual"
   ]
  },
  {
   "cell_type": "code",
   "execution_count": 25,
   "metadata": {},
   "outputs": [
    {
     "data": {
      "text/plain": [
       "array([1, 1, 0, 1, 1, 1, 1, 0, 1, 0, 0, 0, 1, 1, 1, 1, 0, 0, 0, 1, 0, 0,\n",
       "       1, 1, 1, 0, 1, 1, 0, 1, 1, 1, 1, 1, 1, 0, 1, 1, 0, 1, 1, 1, 0, 1,\n",
       "       0, 1, 0, 1, 0, 0, 1, 1, 1, 1, 1, 1, 1, 1, 1, 0, 1, 0, 1, 1, 1, 1,\n",
       "       0, 0, 0, 0, 1, 1, 1, 0, 0, 0, 0, 0, 1, 0, 1, 0, 1, 1, 1, 1, 1, 0,\n",
       "       1, 0, 1, 1, 1, 1, 0, 1, 1, 1, 1, 1, 0, 1, 1, 0, 1, 0, 1, 1, 0, 1,\n",
       "       1, 1, 1, 0, 0, 1, 1, 1, 1, 1, 0, 1, 0, 1, 0, 1, 0, 0, 1, 0, 0, 0,\n",
       "       0, 1, 1, 1, 1, 1, 1, 0, 0, 0, 1, 0, 1, 0, 1, 0, 0, 1, 0, 0, 1, 1,\n",
       "       1, 1, 0, 1, 0, 1, 0, 1, 1, 1, 0, 1, 0, 0, 1, 1, 0, 0, 1, 0, 0, 1,\n",
       "       0, 1, 1, 0, 1, 0, 0, 0, 0, 1, 0, 1, 1, 0, 1, 1, 0, 0, 1, 1, 0, 0,\n",
       "       1, 1, 0, 0, 0, 1, 1, 0, 0, 0, 1, 0, 0, 1, 0, 1, 1, 0, 0, 1, 0, 1,\n",
       "       1, 0, 0, 0, 1, 1, 0, 0, 1, 0, 1, 0, 1, 1, 1, 1, 1, 1, 1, 0, 0, 1,\n",
       "       1, 1, 1, 1, 1, 0, 1, 0, 0, 1, 1, 0, 1, 1, 1, 1, 0, 0, 1, 1, 1, 1,\n",
       "       1, 0, 1, 1, 1, 0, 1, 0, 0, 1, 0, 1], dtype=int64)"
      ]
     },
     "execution_count": 25,
     "metadata": {},
     "output_type": "execute_result"
    }
   ],
   "source": [
    "log_reg.predict(test_x)"
   ]
  },
  {
   "cell_type": "code",
   "execution_count": 26,
   "metadata": {},
   "outputs": [
    {
     "data": {
      "text/html": [
       "<div>\n",
       "<style scoped>\n",
       "    .dataframe tbody tr th:only-of-type {\n",
       "        vertical-align: middle;\n",
       "    }\n",
       "\n",
       "    .dataframe tbody tr th {\n",
       "        vertical-align: top;\n",
       "    }\n",
       "\n",
       "    .dataframe thead th {\n",
       "        text-align: right;\n",
       "    }\n",
       "</style>\n",
       "<table border=\"1\" class=\"dataframe\">\n",
       "  <thead>\n",
       "    <tr style=\"text-align: right;\">\n",
       "      <th></th>\n",
       "      <th>Predicted</th>\n",
       "    </tr>\n",
       "  </thead>\n",
       "  <tbody>\n",
       "    <tr>\n",
       "      <th>0</th>\n",
       "      <td>1</td>\n",
       "    </tr>\n",
       "    <tr>\n",
       "      <th>1</th>\n",
       "      <td>1</td>\n",
       "    </tr>\n",
       "    <tr>\n",
       "      <th>2</th>\n",
       "      <td>0</td>\n",
       "    </tr>\n",
       "    <tr>\n",
       "      <th>3</th>\n",
       "      <td>1</td>\n",
       "    </tr>\n",
       "    <tr>\n",
       "      <th>4</th>\n",
       "      <td>1</td>\n",
       "    </tr>\n",
       "    <tr>\n",
       "      <th>...</th>\n",
       "      <td>...</td>\n",
       "    </tr>\n",
       "    <tr>\n",
       "      <th>271</th>\n",
       "      <td>0</td>\n",
       "    </tr>\n",
       "    <tr>\n",
       "      <th>272</th>\n",
       "      <td>0</td>\n",
       "    </tr>\n",
       "    <tr>\n",
       "      <th>273</th>\n",
       "      <td>1</td>\n",
       "    </tr>\n",
       "    <tr>\n",
       "      <th>274</th>\n",
       "      <td>0</td>\n",
       "    </tr>\n",
       "    <tr>\n",
       "      <th>275</th>\n",
       "      <td>1</td>\n",
       "    </tr>\n",
       "  </tbody>\n",
       "</table>\n",
       "<p>276 rows × 1 columns</p>\n",
       "</div>"
      ],
      "text/plain": [
       "     Predicted\n",
       "0            1\n",
       "1            1\n",
       "2            0\n",
       "3            1\n",
       "4            1\n",
       "..         ...\n",
       "271          0\n",
       "272          0\n",
       "273          1\n",
       "274          0\n",
       "275          1\n",
       "\n",
       "[276 rows x 1 columns]"
      ]
     },
     "execution_count": 26,
     "metadata": {},
     "output_type": "execute_result"
    }
   ],
   "source": [
    "# Create a new DataFrame\n",
    "\n",
    "predictions = pd.DataFrame(log_reg.predict(test_x), columns=['Predicted'])\n",
    "\n",
    "predictions"
   ]
  },
  {
   "cell_type": "code",
   "execution_count": 27,
   "metadata": {},
   "outputs": [
    {
     "data": {
      "text/html": [
       "<div>\n",
       "<style scoped>\n",
       "    .dataframe tbody tr th:only-of-type {\n",
       "        vertical-align: middle;\n",
       "    }\n",
       "\n",
       "    .dataframe tbody tr th {\n",
       "        vertical-align: top;\n",
       "    }\n",
       "\n",
       "    .dataframe thead th {\n",
       "        text-align: right;\n",
       "    }\n",
       "</style>\n",
       "<table border=\"1\" class=\"dataframe\">\n",
       "  <thead>\n",
       "    <tr style=\"text-align: right;\">\n",
       "      <th></th>\n",
       "      <th>Predicted</th>\n",
       "      <th>Actual</th>\n",
       "    </tr>\n",
       "  </thead>\n",
       "  <tbody>\n",
       "    <tr>\n",
       "      <th>0</th>\n",
       "      <td>1</td>\n",
       "      <td>1</td>\n",
       "    </tr>\n",
       "    <tr>\n",
       "      <th>1</th>\n",
       "      <td>1</td>\n",
       "      <td>1</td>\n",
       "    </tr>\n",
       "    <tr>\n",
       "      <th>2</th>\n",
       "      <td>0</td>\n",
       "      <td>0</td>\n",
       "    </tr>\n",
       "    <tr>\n",
       "      <th>3</th>\n",
       "      <td>1</td>\n",
       "      <td>1</td>\n",
       "    </tr>\n",
       "    <tr>\n",
       "      <th>4</th>\n",
       "      <td>1</td>\n",
       "      <td>1</td>\n",
       "    </tr>\n",
       "    <tr>\n",
       "      <th>...</th>\n",
       "      <td>...</td>\n",
       "      <td>...</td>\n",
       "    </tr>\n",
       "    <tr>\n",
       "      <th>271</th>\n",
       "      <td>0</td>\n",
       "      <td>0</td>\n",
       "    </tr>\n",
       "    <tr>\n",
       "      <th>272</th>\n",
       "      <td>0</td>\n",
       "      <td>0</td>\n",
       "    </tr>\n",
       "    <tr>\n",
       "      <th>273</th>\n",
       "      <td>1</td>\n",
       "      <td>1</td>\n",
       "    </tr>\n",
       "    <tr>\n",
       "      <th>274</th>\n",
       "      <td>0</td>\n",
       "      <td>0</td>\n",
       "    </tr>\n",
       "    <tr>\n",
       "      <th>275</th>\n",
       "      <td>1</td>\n",
       "      <td>1</td>\n",
       "    </tr>\n",
       "  </tbody>\n",
       "</table>\n",
       "<p>276 rows × 2 columns</p>\n",
       "</div>"
      ],
      "text/plain": [
       "     Predicted  Actual\n",
       "0            1       1\n",
       "1            1       1\n",
       "2            0       0\n",
       "3            1       1\n",
       "4            1       1\n",
       "..         ...     ...\n",
       "271          0       0\n",
       "272          0       0\n",
       "273          1       1\n",
       "274          0       0\n",
       "275          1       1\n",
       "\n",
       "[276 rows x 2 columns]"
      ]
     },
     "execution_count": 27,
     "metadata": {},
     "output_type": "execute_result"
    }
   ],
   "source": [
    "# Add the actual to the same DataFrame\n",
    "\n",
    "predictions['Actual'] = np.array(test_y)\n",
    "\n",
    "predictions"
   ]
  },
  {
   "cell_type": "markdown",
   "metadata": {},
   "source": [
    "### Calculating overall Accuracy"
   ]
  },
  {
   "cell_type": "code",
   "execution_count": 28,
   "metadata": {},
   "outputs": [],
   "source": [
    "from sklearn.metrics import accuracy_score"
   ]
  },
  {
   "cell_type": "code",
   "execution_count": 29,
   "metadata": {},
   "outputs": [
    {
     "data": {
      "text/plain": [
       "0.8566978193146417"
      ]
     },
     "execution_count": 29,
     "metadata": {},
     "output_type": "execute_result"
    }
   ],
   "source": [
    "#Predict the train values\n",
    "train_y_pred = log_reg.predict(train_x)\n",
    "\n",
    "#Train accuracy\n",
    "accuracy_score(train_y, train_y_pred)"
   ]
  },
  {
   "cell_type": "code",
   "execution_count": 30,
   "metadata": {},
   "outputs": [
    {
     "data": {
      "text/plain": [
       "0.8731884057971014"
      ]
     },
     "execution_count": 30,
     "metadata": {},
     "output_type": "execute_result"
    }
   ],
   "source": [
    "#Predict the test values\n",
    "test_y_pred = log_reg.predict(test_x)\n",
    "\n",
    "#Test accuracy\n",
    "accuracy_score(test_y, test_y_pred)"
   ]
  },
  {
   "cell_type": "code",
   "execution_count": 31,
   "metadata": {},
   "outputs": [
    {
     "data": {
      "text/plain": [
       "array([[ 96,  18],\n",
       "       [ 17, 145]], dtype=int64)"
      ]
     },
     "execution_count": 31,
     "metadata": {},
     "output_type": "execute_result"
    }
   ],
   "source": [
    "from sklearn.metrics import confusion_matrix\n",
    "\n",
    "#We usually create the confusion matrix on test set\n",
    "confusion_matrix(test_y, test_y_pred)"
   ]
  },
  {
   "cell_type": "code",
   "execution_count": 32,
   "metadata": {},
   "outputs": [
    {
     "name": "stdout",
     "output_type": "stream",
     "text": [
      "              precision    recall  f1-score   support\n",
      "\n",
      "           0       0.85      0.84      0.85       114\n",
      "           1       0.89      0.90      0.89       162\n",
      "\n",
      "    accuracy                           0.87       276\n",
      "   macro avg       0.87      0.87      0.87       276\n",
      "weighted avg       0.87      0.87      0.87       276\n",
      "\n"
     ]
    }
   ],
   "source": [
    "from sklearn.metrics import classification_report\n",
    "\n",
    "#We usually create the classification report on test set\n",
    "print(classification_report(test_y, test_y_pred))"
   ]
  },
  {
   "cell_type": "markdown",
   "metadata": {},
   "source": [
    "As Model is not overfitted so we are not using regularisation"
   ]
  },
  {
   "cell_type": "markdown",
   "metadata": {},
   "source": [
    "### SVM Binary classification"
   ]
  },
  {
   "cell_type": "markdown",
   "metadata": {},
   "source": [
    "SVC (kernel='linear')"
   ]
  },
  {
   "cell_type": "code",
   "execution_count": 33,
   "metadata": {},
   "outputs": [
    {
     "name": "stderr",
     "output_type": "stream",
     "text": [
      "c:\\ProgramData\\anaconda3\\Lib\\site-packages\\sklearn\\utils\\validation.py:1184: DataConversionWarning: A column-vector y was passed when a 1d array was expected. Please change the shape of y to (n_samples, ), for example using ravel().\n",
      "  y = column_or_1d(y, warn=True)\n"
     ]
    },
    {
     "data": {
      "text/html": [
       "<style>#sk-container-id-3 {color: black;}#sk-container-id-3 pre{padding: 0;}#sk-container-id-3 div.sk-toggleable {background-color: white;}#sk-container-id-3 label.sk-toggleable__label {cursor: pointer;display: block;width: 100%;margin-bottom: 0;padding: 0.3em;box-sizing: border-box;text-align: center;}#sk-container-id-3 label.sk-toggleable__label-arrow:before {content: \"▸\";float: left;margin-right: 0.25em;color: #696969;}#sk-container-id-3 label.sk-toggleable__label-arrow:hover:before {color: black;}#sk-container-id-3 div.sk-estimator:hover label.sk-toggleable__label-arrow:before {color: black;}#sk-container-id-3 div.sk-toggleable__content {max-height: 0;max-width: 0;overflow: hidden;text-align: left;background-color: #f0f8ff;}#sk-container-id-3 div.sk-toggleable__content pre {margin: 0.2em;color: black;border-radius: 0.25em;background-color: #f0f8ff;}#sk-container-id-3 input.sk-toggleable__control:checked~div.sk-toggleable__content {max-height: 200px;max-width: 100%;overflow: auto;}#sk-container-id-3 input.sk-toggleable__control:checked~label.sk-toggleable__label-arrow:before {content: \"▾\";}#sk-container-id-3 div.sk-estimator input.sk-toggleable__control:checked~label.sk-toggleable__label {background-color: #d4ebff;}#sk-container-id-3 div.sk-label input.sk-toggleable__control:checked~label.sk-toggleable__label {background-color: #d4ebff;}#sk-container-id-3 input.sk-hidden--visually {border: 0;clip: rect(1px 1px 1px 1px);clip: rect(1px, 1px, 1px, 1px);height: 1px;margin: -1px;overflow: hidden;padding: 0;position: absolute;width: 1px;}#sk-container-id-3 div.sk-estimator {font-family: monospace;background-color: #f0f8ff;border: 1px dotted black;border-radius: 0.25em;box-sizing: border-box;margin-bottom: 0.5em;}#sk-container-id-3 div.sk-estimator:hover {background-color: #d4ebff;}#sk-container-id-3 div.sk-parallel-item::after {content: \"\";width: 100%;border-bottom: 1px solid gray;flex-grow: 1;}#sk-container-id-3 div.sk-label:hover label.sk-toggleable__label {background-color: #d4ebff;}#sk-container-id-3 div.sk-serial::before {content: \"\";position: absolute;border-left: 1px solid gray;box-sizing: border-box;top: 0;bottom: 0;left: 50%;z-index: 0;}#sk-container-id-3 div.sk-serial {display: flex;flex-direction: column;align-items: center;background-color: white;padding-right: 0.2em;padding-left: 0.2em;position: relative;}#sk-container-id-3 div.sk-item {position: relative;z-index: 1;}#sk-container-id-3 div.sk-parallel {display: flex;align-items: stretch;justify-content: center;background-color: white;position: relative;}#sk-container-id-3 div.sk-item::before, #sk-container-id-3 div.sk-parallel-item::before {content: \"\";position: absolute;border-left: 1px solid gray;box-sizing: border-box;top: 0;bottom: 0;left: 50%;z-index: -1;}#sk-container-id-3 div.sk-parallel-item {display: flex;flex-direction: column;z-index: 1;position: relative;background-color: white;}#sk-container-id-3 div.sk-parallel-item:first-child::after {align-self: flex-end;width: 50%;}#sk-container-id-3 div.sk-parallel-item:last-child::after {align-self: flex-start;width: 50%;}#sk-container-id-3 div.sk-parallel-item:only-child::after {width: 0;}#sk-container-id-3 div.sk-dashed-wrapped {border: 1px dashed gray;margin: 0 0.4em 0.5em 0.4em;box-sizing: border-box;padding-bottom: 0.4em;background-color: white;}#sk-container-id-3 div.sk-label label {font-family: monospace;font-weight: bold;display: inline-block;line-height: 1.2em;}#sk-container-id-3 div.sk-label-container {text-align: center;}#sk-container-id-3 div.sk-container {/* jupyter's `normalize.less` sets `[hidden] { display: none; }` but bootstrap.min.css set `[hidden] { display: none !important; }` so we also need the `!important` here to be able to override the default hidden behavior on the sphinx rendered scikit-learn.org. See: https://github.com/scikit-learn/scikit-learn/issues/21755 */display: inline-block !important;position: relative;}#sk-container-id-3 div.sk-text-repr-fallback {display: none;}</style><div id=\"sk-container-id-3\" class=\"sk-top-container\"><div class=\"sk-text-repr-fallback\"><pre>SVC(kernel=&#x27;linear&#x27;)</pre><b>In a Jupyter environment, please rerun this cell to show the HTML representation or trust the notebook. <br />On GitHub, the HTML representation is unable to render, please try loading this page with nbviewer.org.</b></div><div class=\"sk-container\" hidden><div class=\"sk-item\"><div class=\"sk-estimator sk-toggleable\"><input class=\"sk-toggleable__control sk-hidden--visually\" id=\"sk-estimator-id-3\" type=\"checkbox\" checked><label for=\"sk-estimator-id-3\" class=\"sk-toggleable__label sk-toggleable__label-arrow\">SVC</label><div class=\"sk-toggleable__content\"><pre>SVC(kernel=&#x27;linear&#x27;)</pre></div></div></div></div></div>"
      ],
      "text/plain": [
       "SVC(kernel='linear')"
      ]
     },
     "execution_count": 33,
     "metadata": {},
     "output_type": "execute_result"
    }
   ],
   "source": [
    "from sklearn.svm import SVC\n",
    " \n",
    "lin_svm = SVC(kernel=\"linear\")\n",
    "\n",
    "lin_svm.fit(train_x, train_y)"
   ]
  },
  {
   "cell_type": "markdown",
   "metadata": {},
   "source": [
    "Accuracy"
   ]
  },
  {
   "cell_type": "code",
   "execution_count": 34,
   "metadata": {},
   "outputs": [],
   "source": [
    "from sklearn.metrics import accuracy_score"
   ]
  },
  {
   "cell_type": "code",
   "execution_count": 35,
   "metadata": {},
   "outputs": [
    {
     "data": {
      "text/plain": [
       "0.867601246105919"
      ]
     },
     "execution_count": 35,
     "metadata": {},
     "output_type": "execute_result"
    }
   ],
   "source": [
    "#Predict the train values\n",
    "train_y_pred = lin_svm.predict(train_x)\n",
    "\n",
    "#Train accuracy\n",
    "accuracy_score(train_y, train_y_pred)"
   ]
  },
  {
   "cell_type": "code",
   "execution_count": 36,
   "metadata": {},
   "outputs": [
    {
     "data": {
      "text/plain": [
       "0.8840579710144928"
      ]
     },
     "execution_count": 36,
     "metadata": {},
     "output_type": "execute_result"
    }
   ],
   "source": [
    "#Predict the test values\n",
    "test_y_pred = lin_svm.predict(test_x)\n",
    "\n",
    "#Test accuracy\n",
    "accuracy_score(test_y, test_y_pred)"
   ]
  },
  {
   "cell_type": "markdown",
   "metadata": {},
   "source": [
    "Classification matrix"
   ]
  },
  {
   "cell_type": "code",
   "execution_count": 37,
   "metadata": {},
   "outputs": [
    {
     "data": {
      "text/plain": [
       "array([[ 97,  17],\n",
       "       [ 15, 147]], dtype=int64)"
      ]
     },
     "execution_count": 37,
     "metadata": {},
     "output_type": "execute_result"
    }
   ],
   "source": [
    "from sklearn.metrics import confusion_matrix\n",
    "\n",
    "#We usually create the confusion matrix on test set\n",
    "confusion_matrix(test_y, test_y_pred)"
   ]
  },
  {
   "cell_type": "markdown",
   "metadata": {},
   "source": [
    "Classification report"
   ]
  },
  {
   "cell_type": "code",
   "execution_count": 38,
   "metadata": {},
   "outputs": [
    {
     "name": "stdout",
     "output_type": "stream",
     "text": [
      "              precision    recall  f1-score   support\n",
      "\n",
      "           0       0.87      0.85      0.86       114\n",
      "           1       0.90      0.91      0.90       162\n",
      "\n",
      "    accuracy                           0.88       276\n",
      "   macro avg       0.88      0.88      0.88       276\n",
      "weighted avg       0.88      0.88      0.88       276\n",
      "\n"
     ]
    }
   ],
   "source": [
    "from sklearn.metrics import classification_report\n",
    "\n",
    "#We usually create the classification report on test set\n",
    "print(classification_report(test_y, test_y_pred))"
   ]
  },
  {
   "cell_type": "markdown",
   "metadata": {},
   "source": [
    "SVC (kernel='poly')"
   ]
  },
  {
   "cell_type": "code",
   "execution_count": 39,
   "metadata": {},
   "outputs": [
    {
     "name": "stderr",
     "output_type": "stream",
     "text": [
      "c:\\ProgramData\\anaconda3\\Lib\\site-packages\\sklearn\\utils\\validation.py:1184: DataConversionWarning: A column-vector y was passed when a 1d array was expected. Please change the shape of y to (n_samples, ), for example using ravel().\n",
      "  y = column_or_1d(y, warn=True)\n"
     ]
    },
    {
     "data": {
      "text/html": [
       "<style>#sk-container-id-4 {color: black;}#sk-container-id-4 pre{padding: 0;}#sk-container-id-4 div.sk-toggleable {background-color: white;}#sk-container-id-4 label.sk-toggleable__label {cursor: pointer;display: block;width: 100%;margin-bottom: 0;padding: 0.3em;box-sizing: border-box;text-align: center;}#sk-container-id-4 label.sk-toggleable__label-arrow:before {content: \"▸\";float: left;margin-right: 0.25em;color: #696969;}#sk-container-id-4 label.sk-toggleable__label-arrow:hover:before {color: black;}#sk-container-id-4 div.sk-estimator:hover label.sk-toggleable__label-arrow:before {color: black;}#sk-container-id-4 div.sk-toggleable__content {max-height: 0;max-width: 0;overflow: hidden;text-align: left;background-color: #f0f8ff;}#sk-container-id-4 div.sk-toggleable__content pre {margin: 0.2em;color: black;border-radius: 0.25em;background-color: #f0f8ff;}#sk-container-id-4 input.sk-toggleable__control:checked~div.sk-toggleable__content {max-height: 200px;max-width: 100%;overflow: auto;}#sk-container-id-4 input.sk-toggleable__control:checked~label.sk-toggleable__label-arrow:before {content: \"▾\";}#sk-container-id-4 div.sk-estimator input.sk-toggleable__control:checked~label.sk-toggleable__label {background-color: #d4ebff;}#sk-container-id-4 div.sk-label input.sk-toggleable__control:checked~label.sk-toggleable__label {background-color: #d4ebff;}#sk-container-id-4 input.sk-hidden--visually {border: 0;clip: rect(1px 1px 1px 1px);clip: rect(1px, 1px, 1px, 1px);height: 1px;margin: -1px;overflow: hidden;padding: 0;position: absolute;width: 1px;}#sk-container-id-4 div.sk-estimator {font-family: monospace;background-color: #f0f8ff;border: 1px dotted black;border-radius: 0.25em;box-sizing: border-box;margin-bottom: 0.5em;}#sk-container-id-4 div.sk-estimator:hover {background-color: #d4ebff;}#sk-container-id-4 div.sk-parallel-item::after {content: \"\";width: 100%;border-bottom: 1px solid gray;flex-grow: 1;}#sk-container-id-4 div.sk-label:hover label.sk-toggleable__label {background-color: #d4ebff;}#sk-container-id-4 div.sk-serial::before {content: \"\";position: absolute;border-left: 1px solid gray;box-sizing: border-box;top: 0;bottom: 0;left: 50%;z-index: 0;}#sk-container-id-4 div.sk-serial {display: flex;flex-direction: column;align-items: center;background-color: white;padding-right: 0.2em;padding-left: 0.2em;position: relative;}#sk-container-id-4 div.sk-item {position: relative;z-index: 1;}#sk-container-id-4 div.sk-parallel {display: flex;align-items: stretch;justify-content: center;background-color: white;position: relative;}#sk-container-id-4 div.sk-item::before, #sk-container-id-4 div.sk-parallel-item::before {content: \"\";position: absolute;border-left: 1px solid gray;box-sizing: border-box;top: 0;bottom: 0;left: 50%;z-index: -1;}#sk-container-id-4 div.sk-parallel-item {display: flex;flex-direction: column;z-index: 1;position: relative;background-color: white;}#sk-container-id-4 div.sk-parallel-item:first-child::after {align-self: flex-end;width: 50%;}#sk-container-id-4 div.sk-parallel-item:last-child::after {align-self: flex-start;width: 50%;}#sk-container-id-4 div.sk-parallel-item:only-child::after {width: 0;}#sk-container-id-4 div.sk-dashed-wrapped {border: 1px dashed gray;margin: 0 0.4em 0.5em 0.4em;box-sizing: border-box;padding-bottom: 0.4em;background-color: white;}#sk-container-id-4 div.sk-label label {font-family: monospace;font-weight: bold;display: inline-block;line-height: 1.2em;}#sk-container-id-4 div.sk-label-container {text-align: center;}#sk-container-id-4 div.sk-container {/* jupyter's `normalize.less` sets `[hidden] { display: none; }` but bootstrap.min.css set `[hidden] { display: none !important; }` so we also need the `!important` here to be able to override the default hidden behavior on the sphinx rendered scikit-learn.org. See: https://github.com/scikit-learn/scikit-learn/issues/21755 */display: inline-block !important;position: relative;}#sk-container-id-4 div.sk-text-repr-fallback {display: none;}</style><div id=\"sk-container-id-4\" class=\"sk-top-container\"><div class=\"sk-text-repr-fallback\"><pre>SVC(C=10, coef0=1, kernel=&#x27;poly&#x27;)</pre><b>In a Jupyter environment, please rerun this cell to show the HTML representation or trust the notebook. <br />On GitHub, the HTML representation is unable to render, please try loading this page with nbviewer.org.</b></div><div class=\"sk-container\" hidden><div class=\"sk-item\"><div class=\"sk-estimator sk-toggleable\"><input class=\"sk-toggleable__control sk-hidden--visually\" id=\"sk-estimator-id-4\" type=\"checkbox\" checked><label for=\"sk-estimator-id-4\" class=\"sk-toggleable__label sk-toggleable__label-arrow\">SVC</label><div class=\"sk-toggleable__content\"><pre>SVC(C=10, coef0=1, kernel=&#x27;poly&#x27;)</pre></div></div></div></div></div>"
      ],
      "text/plain": [
       "SVC(C=10, coef0=1, kernel='poly')"
      ]
     },
     "execution_count": 39,
     "metadata": {},
     "output_type": "execute_result"
    }
   ],
   "source": [
    "from sklearn.svm import SVC\n",
    "\n",
    "# You need to enter a value for gamma. Remember, gamma controls the shape of the bell curve for rbf\n",
    "# You can also set it is as gamma='scale'. This will be the default option in future releases\n",
    "\n",
    "pol_svm = SVC(kernel=\"poly\", degree=3, coef0=1, C=10)\n",
    "\n",
    "pol_svm.fit(train_x, train_y)"
   ]
  },
  {
   "cell_type": "code",
   "execution_count": 40,
   "metadata": {},
   "outputs": [
    {
     "data": {
      "text/plain": [
       "0.9719626168224299"
      ]
     },
     "execution_count": 40,
     "metadata": {},
     "output_type": "execute_result"
    }
   ],
   "source": [
    "#Predict the train values\n",
    "train_y_pred = pol_svm.predict(train_x)\n",
    "\n",
    "#Train accuracy\n",
    "accuracy_score(train_y, train_y_pred)"
   ]
  },
  {
   "cell_type": "code",
   "execution_count": 41,
   "metadata": {},
   "outputs": [
    {
     "data": {
      "text/plain": [
       "0.822463768115942"
      ]
     },
     "execution_count": 41,
     "metadata": {},
     "output_type": "execute_result"
    }
   ],
   "source": [
    "#Predict the test values\n",
    "test_y_pred = pol_svm.predict(test_x)\n",
    "\n",
    "#Test accuracy\n",
    "accuracy_score(test_y, test_y_pred)"
   ]
  },
  {
   "cell_type": "markdown",
   "metadata": {},
   "source": [
    "Here we can see overfitting is found"
   ]
  },
  {
   "cell_type": "markdown",
   "metadata": {},
   "source": [
    "SVC(kernel='rbf')"
   ]
  },
  {
   "cell_type": "code",
   "execution_count": 42,
   "metadata": {},
   "outputs": [
    {
     "name": "stderr",
     "output_type": "stream",
     "text": [
      "c:\\ProgramData\\anaconda3\\Lib\\site-packages\\sklearn\\utils\\validation.py:1184: DataConversionWarning: A column-vector y was passed when a 1d array was expected. Please change the shape of y to (n_samples, ), for example using ravel().\n",
      "  y = column_or_1d(y, warn=True)\n"
     ]
    },
    {
     "data": {
      "text/html": [
       "<style>#sk-container-id-5 {color: black;}#sk-container-id-5 pre{padding: 0;}#sk-container-id-5 div.sk-toggleable {background-color: white;}#sk-container-id-5 label.sk-toggleable__label {cursor: pointer;display: block;width: 100%;margin-bottom: 0;padding: 0.3em;box-sizing: border-box;text-align: center;}#sk-container-id-5 label.sk-toggleable__label-arrow:before {content: \"▸\";float: left;margin-right: 0.25em;color: #696969;}#sk-container-id-5 label.sk-toggleable__label-arrow:hover:before {color: black;}#sk-container-id-5 div.sk-estimator:hover label.sk-toggleable__label-arrow:before {color: black;}#sk-container-id-5 div.sk-toggleable__content {max-height: 0;max-width: 0;overflow: hidden;text-align: left;background-color: #f0f8ff;}#sk-container-id-5 div.sk-toggleable__content pre {margin: 0.2em;color: black;border-radius: 0.25em;background-color: #f0f8ff;}#sk-container-id-5 input.sk-toggleable__control:checked~div.sk-toggleable__content {max-height: 200px;max-width: 100%;overflow: auto;}#sk-container-id-5 input.sk-toggleable__control:checked~label.sk-toggleable__label-arrow:before {content: \"▾\";}#sk-container-id-5 div.sk-estimator input.sk-toggleable__control:checked~label.sk-toggleable__label {background-color: #d4ebff;}#sk-container-id-5 div.sk-label input.sk-toggleable__control:checked~label.sk-toggleable__label {background-color: #d4ebff;}#sk-container-id-5 input.sk-hidden--visually {border: 0;clip: rect(1px 1px 1px 1px);clip: rect(1px, 1px, 1px, 1px);height: 1px;margin: -1px;overflow: hidden;padding: 0;position: absolute;width: 1px;}#sk-container-id-5 div.sk-estimator {font-family: monospace;background-color: #f0f8ff;border: 1px dotted black;border-radius: 0.25em;box-sizing: border-box;margin-bottom: 0.5em;}#sk-container-id-5 div.sk-estimator:hover {background-color: #d4ebff;}#sk-container-id-5 div.sk-parallel-item::after {content: \"\";width: 100%;border-bottom: 1px solid gray;flex-grow: 1;}#sk-container-id-5 div.sk-label:hover label.sk-toggleable__label {background-color: #d4ebff;}#sk-container-id-5 div.sk-serial::before {content: \"\";position: absolute;border-left: 1px solid gray;box-sizing: border-box;top: 0;bottom: 0;left: 50%;z-index: 0;}#sk-container-id-5 div.sk-serial {display: flex;flex-direction: column;align-items: center;background-color: white;padding-right: 0.2em;padding-left: 0.2em;position: relative;}#sk-container-id-5 div.sk-item {position: relative;z-index: 1;}#sk-container-id-5 div.sk-parallel {display: flex;align-items: stretch;justify-content: center;background-color: white;position: relative;}#sk-container-id-5 div.sk-item::before, #sk-container-id-5 div.sk-parallel-item::before {content: \"\";position: absolute;border-left: 1px solid gray;box-sizing: border-box;top: 0;bottom: 0;left: 50%;z-index: -1;}#sk-container-id-5 div.sk-parallel-item {display: flex;flex-direction: column;z-index: 1;position: relative;background-color: white;}#sk-container-id-5 div.sk-parallel-item:first-child::after {align-self: flex-end;width: 50%;}#sk-container-id-5 div.sk-parallel-item:last-child::after {align-self: flex-start;width: 50%;}#sk-container-id-5 div.sk-parallel-item:only-child::after {width: 0;}#sk-container-id-5 div.sk-dashed-wrapped {border: 1px dashed gray;margin: 0 0.4em 0.5em 0.4em;box-sizing: border-box;padding-bottom: 0.4em;background-color: white;}#sk-container-id-5 div.sk-label label {font-family: monospace;font-weight: bold;display: inline-block;line-height: 1.2em;}#sk-container-id-5 div.sk-label-container {text-align: center;}#sk-container-id-5 div.sk-container {/* jupyter's `normalize.less` sets `[hidden] { display: none; }` but bootstrap.min.css set `[hidden] { display: none !important; }` so we also need the `!important` here to be able to override the default hidden behavior on the sphinx rendered scikit-learn.org. See: https://github.com/scikit-learn/scikit-learn/issues/21755 */display: inline-block !important;position: relative;}#sk-container-id-5 div.sk-text-repr-fallback {display: none;}</style><div id=\"sk-container-id-5\" class=\"sk-top-container\"><div class=\"sk-text-repr-fallback\"><pre>SVC(C=10)</pre><b>In a Jupyter environment, please rerun this cell to show the HTML representation or trust the notebook. <br />On GitHub, the HTML representation is unable to render, please try loading this page with nbviewer.org.</b></div><div class=\"sk-container\" hidden><div class=\"sk-item\"><div class=\"sk-estimator sk-toggleable\"><input class=\"sk-toggleable__control sk-hidden--visually\" id=\"sk-estimator-id-5\" type=\"checkbox\" checked><label for=\"sk-estimator-id-5\" class=\"sk-toggleable__label sk-toggleable__label-arrow\">SVC</label><div class=\"sk-toggleable__content\"><pre>SVC(C=10)</pre></div></div></div></div></div>"
      ],
      "text/plain": [
       "SVC(C=10)"
      ]
     },
     "execution_count": 42,
     "metadata": {},
     "output_type": "execute_result"
    }
   ],
   "source": [
    "rbf_svm = SVC(kernel=\"rbf\", C=10, gamma='scale')\n",
    "\n",
    "rbf_svm.fit(train_x, train_y)"
   ]
  },
  {
   "cell_type": "code",
   "execution_count": 43,
   "metadata": {},
   "outputs": [
    {
     "data": {
      "text/plain": [
       "0.9626168224299065"
      ]
     },
     "execution_count": 43,
     "metadata": {},
     "output_type": "execute_result"
    }
   ],
   "source": [
    "#Predict the train values\n",
    "train_y_pred = rbf_svm.predict(train_x)\n",
    "\n",
    "#Train accuracy\n",
    "accuracy_score(train_y, train_y_pred)"
   ]
  },
  {
   "cell_type": "code",
   "execution_count": 44,
   "metadata": {},
   "outputs": [
    {
     "data": {
      "text/plain": [
       "0.8442028985507246"
      ]
     },
     "execution_count": 44,
     "metadata": {},
     "output_type": "execute_result"
    }
   ],
   "source": [
    "#Predict the test values\n",
    "test_y_pred = rbf_svm.predict(test_x)\n",
    "\n",
    "#Test accuracy\n",
    "accuracy_score(test_y, test_y_pred)"
   ]
  },
  {
   "cell_type": "markdown",
   "metadata": {},
   "source": [
    "### Decision Tree"
   ]
  },
  {
   "cell_type": "code",
   "execution_count": 45,
   "metadata": {},
   "outputs": [
    {
     "data": {
      "text/html": [
       "<style>#sk-container-id-6 {color: black;}#sk-container-id-6 pre{padding: 0;}#sk-container-id-6 div.sk-toggleable {background-color: white;}#sk-container-id-6 label.sk-toggleable__label {cursor: pointer;display: block;width: 100%;margin-bottom: 0;padding: 0.3em;box-sizing: border-box;text-align: center;}#sk-container-id-6 label.sk-toggleable__label-arrow:before {content: \"▸\";float: left;margin-right: 0.25em;color: #696969;}#sk-container-id-6 label.sk-toggleable__label-arrow:hover:before {color: black;}#sk-container-id-6 div.sk-estimator:hover label.sk-toggleable__label-arrow:before {color: black;}#sk-container-id-6 div.sk-toggleable__content {max-height: 0;max-width: 0;overflow: hidden;text-align: left;background-color: #f0f8ff;}#sk-container-id-6 div.sk-toggleable__content pre {margin: 0.2em;color: black;border-radius: 0.25em;background-color: #f0f8ff;}#sk-container-id-6 input.sk-toggleable__control:checked~div.sk-toggleable__content {max-height: 200px;max-width: 100%;overflow: auto;}#sk-container-id-6 input.sk-toggleable__control:checked~label.sk-toggleable__label-arrow:before {content: \"▾\";}#sk-container-id-6 div.sk-estimator input.sk-toggleable__control:checked~label.sk-toggleable__label {background-color: #d4ebff;}#sk-container-id-6 div.sk-label input.sk-toggleable__control:checked~label.sk-toggleable__label {background-color: #d4ebff;}#sk-container-id-6 input.sk-hidden--visually {border: 0;clip: rect(1px 1px 1px 1px);clip: rect(1px, 1px, 1px, 1px);height: 1px;margin: -1px;overflow: hidden;padding: 0;position: absolute;width: 1px;}#sk-container-id-6 div.sk-estimator {font-family: monospace;background-color: #f0f8ff;border: 1px dotted black;border-radius: 0.25em;box-sizing: border-box;margin-bottom: 0.5em;}#sk-container-id-6 div.sk-estimator:hover {background-color: #d4ebff;}#sk-container-id-6 div.sk-parallel-item::after {content: \"\";width: 100%;border-bottom: 1px solid gray;flex-grow: 1;}#sk-container-id-6 div.sk-label:hover label.sk-toggleable__label {background-color: #d4ebff;}#sk-container-id-6 div.sk-serial::before {content: \"\";position: absolute;border-left: 1px solid gray;box-sizing: border-box;top: 0;bottom: 0;left: 50%;z-index: 0;}#sk-container-id-6 div.sk-serial {display: flex;flex-direction: column;align-items: center;background-color: white;padding-right: 0.2em;padding-left: 0.2em;position: relative;}#sk-container-id-6 div.sk-item {position: relative;z-index: 1;}#sk-container-id-6 div.sk-parallel {display: flex;align-items: stretch;justify-content: center;background-color: white;position: relative;}#sk-container-id-6 div.sk-item::before, #sk-container-id-6 div.sk-parallel-item::before {content: \"\";position: absolute;border-left: 1px solid gray;box-sizing: border-box;top: 0;bottom: 0;left: 50%;z-index: -1;}#sk-container-id-6 div.sk-parallel-item {display: flex;flex-direction: column;z-index: 1;position: relative;background-color: white;}#sk-container-id-6 div.sk-parallel-item:first-child::after {align-self: flex-end;width: 50%;}#sk-container-id-6 div.sk-parallel-item:last-child::after {align-self: flex-start;width: 50%;}#sk-container-id-6 div.sk-parallel-item:only-child::after {width: 0;}#sk-container-id-6 div.sk-dashed-wrapped {border: 1px dashed gray;margin: 0 0.4em 0.5em 0.4em;box-sizing: border-box;padding-bottom: 0.4em;background-color: white;}#sk-container-id-6 div.sk-label label {font-family: monospace;font-weight: bold;display: inline-block;line-height: 1.2em;}#sk-container-id-6 div.sk-label-container {text-align: center;}#sk-container-id-6 div.sk-container {/* jupyter's `normalize.less` sets `[hidden] { display: none; }` but bootstrap.min.css set `[hidden] { display: none !important; }` so we also need the `!important` here to be able to override the default hidden behavior on the sphinx rendered scikit-learn.org. See: https://github.com/scikit-learn/scikit-learn/issues/21755 */display: inline-block !important;position: relative;}#sk-container-id-6 div.sk-text-repr-fallback {display: none;}</style><div id=\"sk-container-id-6\" class=\"sk-top-container\"><div class=\"sk-text-repr-fallback\"><pre>DecisionTreeClassifier(max_depth=5)</pre><b>In a Jupyter environment, please rerun this cell to show the HTML representation or trust the notebook. <br />On GitHub, the HTML representation is unable to render, please try loading this page with nbviewer.org.</b></div><div class=\"sk-container\" hidden><div class=\"sk-item\"><div class=\"sk-estimator sk-toggleable\"><input class=\"sk-toggleable__control sk-hidden--visually\" id=\"sk-estimator-id-6\" type=\"checkbox\" checked><label for=\"sk-estimator-id-6\" class=\"sk-toggleable__label sk-toggleable__label-arrow\">DecisionTreeClassifier</label><div class=\"sk-toggleable__content\"><pre>DecisionTreeClassifier(max_depth=5)</pre></div></div></div></div></div>"
      ],
      "text/plain": [
       "DecisionTreeClassifier(max_depth=5)"
      ]
     },
     "execution_count": 45,
     "metadata": {},
     "output_type": "execute_result"
    }
   ],
   "source": [
    "from sklearn.tree import DecisionTreeClassifier \n",
    "\n",
    "tree_clf = DecisionTreeClassifier(max_depth=5)\n",
    "\n",
    "tree_clf.fit(train_x, train_y)"
   ]
  },
  {
   "cell_type": "code",
   "execution_count": 46,
   "metadata": {},
   "outputs": [],
   "source": [
    "from sklearn.metrics import accuracy_score"
   ]
  },
  {
   "cell_type": "code",
   "execution_count": 47,
   "metadata": {},
   "outputs": [
    {
     "name": "stdout",
     "output_type": "stream",
     "text": [
      "0.9018691588785047\n"
     ]
    }
   ],
   "source": [
    "#Train accuracy:\n",
    "train_y_pred = tree_clf.predict(train_x)\n",
    "\n",
    "print(accuracy_score(train_y, train_y_pred))"
   ]
  },
  {
   "cell_type": "code",
   "execution_count": 48,
   "metadata": {},
   "outputs": [
    {
     "name": "stdout",
     "output_type": "stream",
     "text": [
      "0.8623188405797102\n"
     ]
    }
   ],
   "source": [
    "#Test accuracy:\n",
    "test_y_pred = tree_clf.predict(test_x)\n",
    "\n",
    "print(accuracy_score(test_y, test_y_pred))"
   ]
  },
  {
   "cell_type": "code",
   "execution_count": 49,
   "metadata": {},
   "outputs": [
    {
     "data": {
      "text/plain": [
       "array([[ 95,  19],\n",
       "       [ 19, 143]], dtype=int64)"
      ]
     },
     "execution_count": 49,
     "metadata": {},
     "output_type": "execute_result"
    }
   ],
   "source": [
    "from sklearn.metrics import confusion_matrix\n",
    "\n",
    "#Test confusion matrix\n",
    "confusion_matrix(test_y, test_y_pred)"
   ]
  },
  {
   "cell_type": "markdown",
   "metadata": {},
   "source": [
    "Randomized Grid Search"
   ]
  },
  {
   "cell_type": "code",
   "execution_count": 51,
   "metadata": {},
   "outputs": [
    {
     "name": "stdout",
     "output_type": "stream",
     "text": [
      "Fitting 5 folds for each of 15 candidates, totalling 75 fits\n"
     ]
    },
    {
     "data": {
      "text/html": [
       "<style>#sk-container-id-7 {color: black;}#sk-container-id-7 pre{padding: 0;}#sk-container-id-7 div.sk-toggleable {background-color: white;}#sk-container-id-7 label.sk-toggleable__label {cursor: pointer;display: block;width: 100%;margin-bottom: 0;padding: 0.3em;box-sizing: border-box;text-align: center;}#sk-container-id-7 label.sk-toggleable__label-arrow:before {content: \"▸\";float: left;margin-right: 0.25em;color: #696969;}#sk-container-id-7 label.sk-toggleable__label-arrow:hover:before {color: black;}#sk-container-id-7 div.sk-estimator:hover label.sk-toggleable__label-arrow:before {color: black;}#sk-container-id-7 div.sk-toggleable__content {max-height: 0;max-width: 0;overflow: hidden;text-align: left;background-color: #f0f8ff;}#sk-container-id-7 div.sk-toggleable__content pre {margin: 0.2em;color: black;border-radius: 0.25em;background-color: #f0f8ff;}#sk-container-id-7 input.sk-toggleable__control:checked~div.sk-toggleable__content {max-height: 200px;max-width: 100%;overflow: auto;}#sk-container-id-7 input.sk-toggleable__control:checked~label.sk-toggleable__label-arrow:before {content: \"▾\";}#sk-container-id-7 div.sk-estimator input.sk-toggleable__control:checked~label.sk-toggleable__label {background-color: #d4ebff;}#sk-container-id-7 div.sk-label input.sk-toggleable__control:checked~label.sk-toggleable__label {background-color: #d4ebff;}#sk-container-id-7 input.sk-hidden--visually {border: 0;clip: rect(1px 1px 1px 1px);clip: rect(1px, 1px, 1px, 1px);height: 1px;margin: -1px;overflow: hidden;padding: 0;position: absolute;width: 1px;}#sk-container-id-7 div.sk-estimator {font-family: monospace;background-color: #f0f8ff;border: 1px dotted black;border-radius: 0.25em;box-sizing: border-box;margin-bottom: 0.5em;}#sk-container-id-7 div.sk-estimator:hover {background-color: #d4ebff;}#sk-container-id-7 div.sk-parallel-item::after {content: \"\";width: 100%;border-bottom: 1px solid gray;flex-grow: 1;}#sk-container-id-7 div.sk-label:hover label.sk-toggleable__label {background-color: #d4ebff;}#sk-container-id-7 div.sk-serial::before {content: \"\";position: absolute;border-left: 1px solid gray;box-sizing: border-box;top: 0;bottom: 0;left: 50%;z-index: 0;}#sk-container-id-7 div.sk-serial {display: flex;flex-direction: column;align-items: center;background-color: white;padding-right: 0.2em;padding-left: 0.2em;position: relative;}#sk-container-id-7 div.sk-item {position: relative;z-index: 1;}#sk-container-id-7 div.sk-parallel {display: flex;align-items: stretch;justify-content: center;background-color: white;position: relative;}#sk-container-id-7 div.sk-item::before, #sk-container-id-7 div.sk-parallel-item::before {content: \"\";position: absolute;border-left: 1px solid gray;box-sizing: border-box;top: 0;bottom: 0;left: 50%;z-index: -1;}#sk-container-id-7 div.sk-parallel-item {display: flex;flex-direction: column;z-index: 1;position: relative;background-color: white;}#sk-container-id-7 div.sk-parallel-item:first-child::after {align-self: flex-end;width: 50%;}#sk-container-id-7 div.sk-parallel-item:last-child::after {align-self: flex-start;width: 50%;}#sk-container-id-7 div.sk-parallel-item:only-child::after {width: 0;}#sk-container-id-7 div.sk-dashed-wrapped {border: 1px dashed gray;margin: 0 0.4em 0.5em 0.4em;box-sizing: border-box;padding-bottom: 0.4em;background-color: white;}#sk-container-id-7 div.sk-label label {font-family: monospace;font-weight: bold;display: inline-block;line-height: 1.2em;}#sk-container-id-7 div.sk-label-container {text-align: center;}#sk-container-id-7 div.sk-container {/* jupyter's `normalize.less` sets `[hidden] { display: none; }` but bootstrap.min.css set `[hidden] { display: none !important; }` so we also need the `!important` here to be able to override the default hidden behavior on the sphinx rendered scikit-learn.org. See: https://github.com/scikit-learn/scikit-learn/issues/21755 */display: inline-block !important;position: relative;}#sk-container-id-7 div.sk-text-repr-fallback {display: none;}</style><div id=\"sk-container-id-7\" class=\"sk-top-container\"><div class=\"sk-text-repr-fallback\"><pre>RandomizedSearchCV(cv=5, estimator=DecisionTreeClassifier(), n_iter=15,\n",
       "                   param_distributions={&#x27;max_depth&#x27;: &lt;scipy.stats._distn_infrastructure.rv_discrete_frozen object at 0x000002AF4953D950&gt;,\n",
       "                                        &#x27;min_samples_leaf&#x27;: &lt;scipy.stats._distn_infrastructure.rv_discrete_frozen object at 0x000002AF48FBE090&gt;},\n",
       "                   return_train_score=True, scoring=&#x27;accuracy&#x27;, verbose=1)</pre><b>In a Jupyter environment, please rerun this cell to show the HTML representation or trust the notebook. <br />On GitHub, the HTML representation is unable to render, please try loading this page with nbviewer.org.</b></div><div class=\"sk-container\" hidden><div class=\"sk-item sk-dashed-wrapped\"><div class=\"sk-label-container\"><div class=\"sk-label sk-toggleable\"><input class=\"sk-toggleable__control sk-hidden--visually\" id=\"sk-estimator-id-7\" type=\"checkbox\" ><label for=\"sk-estimator-id-7\" class=\"sk-toggleable__label sk-toggleable__label-arrow\">RandomizedSearchCV</label><div class=\"sk-toggleable__content\"><pre>RandomizedSearchCV(cv=5, estimator=DecisionTreeClassifier(), n_iter=15,\n",
       "                   param_distributions={&#x27;max_depth&#x27;: &lt;scipy.stats._distn_infrastructure.rv_discrete_frozen object at 0x000002AF4953D950&gt;,\n",
       "                                        &#x27;min_samples_leaf&#x27;: &lt;scipy.stats._distn_infrastructure.rv_discrete_frozen object at 0x000002AF48FBE090&gt;},\n",
       "                   return_train_score=True, scoring=&#x27;accuracy&#x27;, verbose=1)</pre></div></div></div><div class=\"sk-parallel\"><div class=\"sk-parallel-item\"><div class=\"sk-item\"><div class=\"sk-label-container\"><div class=\"sk-label sk-toggleable\"><input class=\"sk-toggleable__control sk-hidden--visually\" id=\"sk-estimator-id-8\" type=\"checkbox\" ><label for=\"sk-estimator-id-8\" class=\"sk-toggleable__label sk-toggleable__label-arrow\">estimator: DecisionTreeClassifier</label><div class=\"sk-toggleable__content\"><pre>DecisionTreeClassifier()</pre></div></div></div><div class=\"sk-serial\"><div class=\"sk-item\"><div class=\"sk-estimator sk-toggleable\"><input class=\"sk-toggleable__control sk-hidden--visually\" id=\"sk-estimator-id-9\" type=\"checkbox\" ><label for=\"sk-estimator-id-9\" class=\"sk-toggleable__label sk-toggleable__label-arrow\">DecisionTreeClassifier</label><div class=\"sk-toggleable__content\"><pre>DecisionTreeClassifier()</pre></div></div></div></div></div></div></div></div></div></div>"
      ],
      "text/plain": [
       "RandomizedSearchCV(cv=5, estimator=DecisionTreeClassifier(), n_iter=15,\n",
       "                   param_distributions={'max_depth': <scipy.stats._distn_infrastructure.rv_discrete_frozen object at 0x000002AF4953D950>,\n",
       "                                        'min_samples_leaf': <scipy.stats._distn_infrastructure.rv_discrete_frozen object at 0x000002AF48FBE090>},\n",
       "                   return_train_score=True, scoring='accuracy', verbose=1)"
      ]
     },
     "execution_count": 51,
     "metadata": {},
     "output_type": "execute_result"
    }
   ],
   "source": [
    "from sklearn.model_selection import RandomizedSearchCV\n",
    "from scipy.stats import randint\n",
    "\n",
    "param_grid = {'max_depth': randint(low=5, high=20), \n",
    "              'min_samples_leaf': randint(low=5, high=20)}\n",
    "\n",
    "tree_gs = RandomizedSearchCV(DecisionTreeClassifier(), param_grid, \n",
    "                             n_iter=15, cv=5, verbose=1,\n",
    "                             scoring='accuracy',\n",
    "                             return_train_score=True)\n",
    "\n",
    "tree_gs.fit(train_x, train_y)"
   ]
  },
  {
   "cell_type": "code",
   "execution_count": 52,
   "metadata": {},
   "outputs": [
    {
     "name": "stdout",
     "output_type": "stream",
     "text": [
      "0.7959665697674418 {'max_depth': 12, 'min_samples_leaf': 6}\n",
      "0.8037669573643411 {'max_depth': 15, 'min_samples_leaf': 9}\n",
      "0.8193192829457365 {'max_depth': 7, 'min_samples_leaf': 17}\n",
      "0.8177931201550388 {'max_depth': 12, 'min_samples_leaf': 18}\n",
      "0.8115673449612404 {'max_depth': 14, 'min_samples_leaf': 10}\n",
      "0.8193556201550388 {'max_depth': 15, 'min_samples_leaf': 13}\n",
      "0.8177931201550388 {'max_depth': 9, 'min_samples_leaf': 18}\n",
      "0.7975169573643411 {'max_depth': 19, 'min_samples_leaf': 6}\n",
      "0.8271317829457365 {'max_depth': 18, 'min_samples_leaf': 15}\n",
      "0.8271317829457365 {'max_depth': 10, 'min_samples_leaf': 15}\n",
      "0.8301719961240309 {'max_depth': 5, 'min_samples_leaf': 5}\n",
      "0.8115067829457365 {'max_depth': 12, 'min_samples_leaf': 8}\n",
      "0.8255692829457365 {'max_depth': 5, 'min_samples_leaf': 14}\n",
      "0.8255692829457365 {'max_depth': 18, 'min_samples_leaf': 14}\n",
      "0.8224321705426357 {'max_depth': 6, 'min_samples_leaf': 8}\n"
     ]
    }
   ],
   "source": [
    "cvres = tree_gs.cv_results_\n",
    "\n",
    "for mean_score, params in zip(cvres[\"mean_test_score\"], cvres[\"params\"]):\n",
    "    print(mean_score, params)"
   ]
  },
  {
   "cell_type": "code",
   "execution_count": 53,
   "metadata": {},
   "outputs": [
    {
     "data": {
      "text/plain": [
       "{'max_depth': 5, 'min_samples_leaf': 5}"
      ]
     },
     "execution_count": 53,
     "metadata": {},
     "output_type": "execute_result"
    }
   ],
   "source": [
    "#Find the best parameter set\n",
    "tree_gs.best_params_"
   ]
  },
  {
   "cell_type": "code",
   "execution_count": 54,
   "metadata": {},
   "outputs": [
    {
     "data": {
      "text/html": [
       "<style>#sk-container-id-8 {color: black;}#sk-container-id-8 pre{padding: 0;}#sk-container-id-8 div.sk-toggleable {background-color: white;}#sk-container-id-8 label.sk-toggleable__label {cursor: pointer;display: block;width: 100%;margin-bottom: 0;padding: 0.3em;box-sizing: border-box;text-align: center;}#sk-container-id-8 label.sk-toggleable__label-arrow:before {content: \"▸\";float: left;margin-right: 0.25em;color: #696969;}#sk-container-id-8 label.sk-toggleable__label-arrow:hover:before {color: black;}#sk-container-id-8 div.sk-estimator:hover label.sk-toggleable__label-arrow:before {color: black;}#sk-container-id-8 div.sk-toggleable__content {max-height: 0;max-width: 0;overflow: hidden;text-align: left;background-color: #f0f8ff;}#sk-container-id-8 div.sk-toggleable__content pre {margin: 0.2em;color: black;border-radius: 0.25em;background-color: #f0f8ff;}#sk-container-id-8 input.sk-toggleable__control:checked~div.sk-toggleable__content {max-height: 200px;max-width: 100%;overflow: auto;}#sk-container-id-8 input.sk-toggleable__control:checked~label.sk-toggleable__label-arrow:before {content: \"▾\";}#sk-container-id-8 div.sk-estimator input.sk-toggleable__control:checked~label.sk-toggleable__label {background-color: #d4ebff;}#sk-container-id-8 div.sk-label input.sk-toggleable__control:checked~label.sk-toggleable__label {background-color: #d4ebff;}#sk-container-id-8 input.sk-hidden--visually {border: 0;clip: rect(1px 1px 1px 1px);clip: rect(1px, 1px, 1px, 1px);height: 1px;margin: -1px;overflow: hidden;padding: 0;position: absolute;width: 1px;}#sk-container-id-8 div.sk-estimator {font-family: monospace;background-color: #f0f8ff;border: 1px dotted black;border-radius: 0.25em;box-sizing: border-box;margin-bottom: 0.5em;}#sk-container-id-8 div.sk-estimator:hover {background-color: #d4ebff;}#sk-container-id-8 div.sk-parallel-item::after {content: \"\";width: 100%;border-bottom: 1px solid gray;flex-grow: 1;}#sk-container-id-8 div.sk-label:hover label.sk-toggleable__label {background-color: #d4ebff;}#sk-container-id-8 div.sk-serial::before {content: \"\";position: absolute;border-left: 1px solid gray;box-sizing: border-box;top: 0;bottom: 0;left: 50%;z-index: 0;}#sk-container-id-8 div.sk-serial {display: flex;flex-direction: column;align-items: center;background-color: white;padding-right: 0.2em;padding-left: 0.2em;position: relative;}#sk-container-id-8 div.sk-item {position: relative;z-index: 1;}#sk-container-id-8 div.sk-parallel {display: flex;align-items: stretch;justify-content: center;background-color: white;position: relative;}#sk-container-id-8 div.sk-item::before, #sk-container-id-8 div.sk-parallel-item::before {content: \"\";position: absolute;border-left: 1px solid gray;box-sizing: border-box;top: 0;bottom: 0;left: 50%;z-index: -1;}#sk-container-id-8 div.sk-parallel-item {display: flex;flex-direction: column;z-index: 1;position: relative;background-color: white;}#sk-container-id-8 div.sk-parallel-item:first-child::after {align-self: flex-end;width: 50%;}#sk-container-id-8 div.sk-parallel-item:last-child::after {align-self: flex-start;width: 50%;}#sk-container-id-8 div.sk-parallel-item:only-child::after {width: 0;}#sk-container-id-8 div.sk-dashed-wrapped {border: 1px dashed gray;margin: 0 0.4em 0.5em 0.4em;box-sizing: border-box;padding-bottom: 0.4em;background-color: white;}#sk-container-id-8 div.sk-label label {font-family: monospace;font-weight: bold;display: inline-block;line-height: 1.2em;}#sk-container-id-8 div.sk-label-container {text-align: center;}#sk-container-id-8 div.sk-container {/* jupyter's `normalize.less` sets `[hidden] { display: none; }` but bootstrap.min.css set `[hidden] { display: none !important; }` so we also need the `!important` here to be able to override the default hidden behavior on the sphinx rendered scikit-learn.org. See: https://github.com/scikit-learn/scikit-learn/issues/21755 */display: inline-block !important;position: relative;}#sk-container-id-8 div.sk-text-repr-fallback {display: none;}</style><div id=\"sk-container-id-8\" class=\"sk-top-container\"><div class=\"sk-text-repr-fallback\"><pre>DecisionTreeClassifier(max_depth=5, min_samples_leaf=5)</pre><b>In a Jupyter environment, please rerun this cell to show the HTML representation or trust the notebook. <br />On GitHub, the HTML representation is unable to render, please try loading this page with nbviewer.org.</b></div><div class=\"sk-container\" hidden><div class=\"sk-item\"><div class=\"sk-estimator sk-toggleable\"><input class=\"sk-toggleable__control sk-hidden--visually\" id=\"sk-estimator-id-10\" type=\"checkbox\" checked><label for=\"sk-estimator-id-10\" class=\"sk-toggleable__label sk-toggleable__label-arrow\">DecisionTreeClassifier</label><div class=\"sk-toggleable__content\"><pre>DecisionTreeClassifier(max_depth=5, min_samples_leaf=5)</pre></div></div></div></div></div>"
      ],
      "text/plain": [
       "DecisionTreeClassifier(max_depth=5, min_samples_leaf=5)"
      ]
     },
     "execution_count": 54,
     "metadata": {},
     "output_type": "execute_result"
    }
   ],
   "source": [
    "tree_gs.best_estimator_"
   ]
  },
  {
   "cell_type": "code",
   "execution_count": 55,
   "metadata": {},
   "outputs": [
    {
     "name": "stdout",
     "output_type": "stream",
     "text": [
      "0.8909657320872274\n"
     ]
    }
   ],
   "source": [
    "#Train accuracy:\n",
    "train_y_pred = tree_gs.best_estimator_.predict(train_x)\n",
    "\n",
    "print(accuracy_score(train_y, train_y_pred))"
   ]
  },
  {
   "cell_type": "code",
   "execution_count": 56,
   "metadata": {},
   "outputs": [
    {
     "name": "stdout",
     "output_type": "stream",
     "text": [
      "0.8695652173913043\n"
     ]
    }
   ],
   "source": [
    "#Test accuracy:\n",
    "test_y_pred = tree_gs.best_estimator_.predict(test_x)\n",
    "\n",
    "print(accuracy_score(test_y, test_y_pred))"
   ]
  },
  {
   "cell_type": "code",
   "execution_count": 57,
   "metadata": {},
   "outputs": [
    {
     "data": {
      "text/plain": [
       "array([[ 92,  22],\n",
       "       [ 14, 148]], dtype=int64)"
      ]
     },
     "execution_count": 57,
     "metadata": {},
     "output_type": "execute_result"
    }
   ],
   "source": [
    "#Test confusion matrix\n",
    "confusion_matrix(test_y, test_y_pred)"
   ]
  },
  {
   "cell_type": "markdown",
   "metadata": {},
   "source": [
    "### Random Forest"
   ]
  },
  {
   "cell_type": "code",
   "execution_count": 64,
   "metadata": {},
   "outputs": [
    {
     "name": "stderr",
     "output_type": "stream",
     "text": [
      "c:\\ProgramData\\anaconda3\\Lib\\site-packages\\sklearn\\base.py:1151: DataConversionWarning: A column-vector y was passed when a 1d array was expected. Please change the shape of y to (n_samples,), for example using ravel().\n",
      "  return fit_method(estimator, *args, **kwargs)\n"
     ]
    },
    {
     "data": {
      "text/html": [
       "<style>#sk-container-id-10 {color: black;}#sk-container-id-10 pre{padding: 0;}#sk-container-id-10 div.sk-toggleable {background-color: white;}#sk-container-id-10 label.sk-toggleable__label {cursor: pointer;display: block;width: 100%;margin-bottom: 0;padding: 0.3em;box-sizing: border-box;text-align: center;}#sk-container-id-10 label.sk-toggleable__label-arrow:before {content: \"▸\";float: left;margin-right: 0.25em;color: #696969;}#sk-container-id-10 label.sk-toggleable__label-arrow:hover:before {color: black;}#sk-container-id-10 div.sk-estimator:hover label.sk-toggleable__label-arrow:before {color: black;}#sk-container-id-10 div.sk-toggleable__content {max-height: 0;max-width: 0;overflow: hidden;text-align: left;background-color: #f0f8ff;}#sk-container-id-10 div.sk-toggleable__content pre {margin: 0.2em;color: black;border-radius: 0.25em;background-color: #f0f8ff;}#sk-container-id-10 input.sk-toggleable__control:checked~div.sk-toggleable__content {max-height: 200px;max-width: 100%;overflow: auto;}#sk-container-id-10 input.sk-toggleable__control:checked~label.sk-toggleable__label-arrow:before {content: \"▾\";}#sk-container-id-10 div.sk-estimator input.sk-toggleable__control:checked~label.sk-toggleable__label {background-color: #d4ebff;}#sk-container-id-10 div.sk-label input.sk-toggleable__control:checked~label.sk-toggleable__label {background-color: #d4ebff;}#sk-container-id-10 input.sk-hidden--visually {border: 0;clip: rect(1px 1px 1px 1px);clip: rect(1px, 1px, 1px, 1px);height: 1px;margin: -1px;overflow: hidden;padding: 0;position: absolute;width: 1px;}#sk-container-id-10 div.sk-estimator {font-family: monospace;background-color: #f0f8ff;border: 1px dotted black;border-radius: 0.25em;box-sizing: border-box;margin-bottom: 0.5em;}#sk-container-id-10 div.sk-estimator:hover {background-color: #d4ebff;}#sk-container-id-10 div.sk-parallel-item::after {content: \"\";width: 100%;border-bottom: 1px solid gray;flex-grow: 1;}#sk-container-id-10 div.sk-label:hover label.sk-toggleable__label {background-color: #d4ebff;}#sk-container-id-10 div.sk-serial::before {content: \"\";position: absolute;border-left: 1px solid gray;box-sizing: border-box;top: 0;bottom: 0;left: 50%;z-index: 0;}#sk-container-id-10 div.sk-serial {display: flex;flex-direction: column;align-items: center;background-color: white;padding-right: 0.2em;padding-left: 0.2em;position: relative;}#sk-container-id-10 div.sk-item {position: relative;z-index: 1;}#sk-container-id-10 div.sk-parallel {display: flex;align-items: stretch;justify-content: center;background-color: white;position: relative;}#sk-container-id-10 div.sk-item::before, #sk-container-id-10 div.sk-parallel-item::before {content: \"\";position: absolute;border-left: 1px solid gray;box-sizing: border-box;top: 0;bottom: 0;left: 50%;z-index: -1;}#sk-container-id-10 div.sk-parallel-item {display: flex;flex-direction: column;z-index: 1;position: relative;background-color: white;}#sk-container-id-10 div.sk-parallel-item:first-child::after {align-self: flex-end;width: 50%;}#sk-container-id-10 div.sk-parallel-item:last-child::after {align-self: flex-start;width: 50%;}#sk-container-id-10 div.sk-parallel-item:only-child::after {width: 0;}#sk-container-id-10 div.sk-dashed-wrapped {border: 1px dashed gray;margin: 0 0.4em 0.5em 0.4em;box-sizing: border-box;padding-bottom: 0.4em;background-color: white;}#sk-container-id-10 div.sk-label label {font-family: monospace;font-weight: bold;display: inline-block;line-height: 1.2em;}#sk-container-id-10 div.sk-label-container {text-align: center;}#sk-container-id-10 div.sk-container {/* jupyter's `normalize.less` sets `[hidden] { display: none; }` but bootstrap.min.css set `[hidden] { display: none !important; }` so we also need the `!important` here to be able to override the default hidden behavior on the sphinx rendered scikit-learn.org. See: https://github.com/scikit-learn/scikit-learn/issues/21755 */display: inline-block !important;position: relative;}#sk-container-id-10 div.sk-text-repr-fallback {display: none;}</style><div id=\"sk-container-id-10\" class=\"sk-top-container\"><div class=\"sk-text-repr-fallback\"><pre>RandomForestClassifier(max_depth=10, n_estimators=500, n_jobs=-1)</pre><b>In a Jupyter environment, please rerun this cell to show the HTML representation or trust the notebook. <br />On GitHub, the HTML representation is unable to render, please try loading this page with nbviewer.org.</b></div><div class=\"sk-container\" hidden><div class=\"sk-item\"><div class=\"sk-estimator sk-toggleable\"><input class=\"sk-toggleable__control sk-hidden--visually\" id=\"sk-estimator-id-15\" type=\"checkbox\" checked><label for=\"sk-estimator-id-15\" class=\"sk-toggleable__label sk-toggleable__label-arrow\">RandomForestClassifier</label><div class=\"sk-toggleable__content\"><pre>RandomForestClassifier(max_depth=10, n_estimators=500, n_jobs=-1)</pre></div></div></div></div></div>"
      ],
      "text/plain": [
       "RandomForestClassifier(max_depth=10, n_estimators=500, n_jobs=-1)"
      ]
     },
     "execution_count": 64,
     "metadata": {},
     "output_type": "execute_result"
    }
   ],
   "source": [
    "from sklearn.ensemble import RandomForestClassifier \n",
    "\n",
    "rnd_clf = RandomForestClassifier(n_estimators=500, max_depth=10, n_jobs=-1) \n",
    "\n",
    "rnd_clf.fit(train_x, train_y)"
   ]
  },
  {
   "cell_type": "code",
   "execution_count": 65,
   "metadata": {},
   "outputs": [
    {
     "name": "stdout",
     "output_type": "stream",
     "text": [
      "Train acc: 0.9844236760124611\n"
     ]
    }
   ],
   "source": [
    "#Train accuracy\n",
    "\n",
    "train_y_pred = rnd_clf.predict(train_x)\n",
    "\n",
    "train_acc = accuracy_score(train_y\n",
    "                           , train_y_pred)\n",
    "\n",
    "print('Train acc: {}' .format(train_acc))"
   ]
  },
  {
   "cell_type": "code",
   "execution_count": 66,
   "metadata": {},
   "outputs": [
    {
     "name": "stdout",
     "output_type": "stream",
     "text": [
      "Test acc: 0.8913043478260869\n"
     ]
    }
   ],
   "source": [
    "#Test accuracy\n",
    "\n",
    "test_y_pred = rnd_clf.predict(test_x)\n",
    "\n",
    "test_acc = accuracy_score(test_y, test_y_pred)\n",
    "\n",
    "print('Test acc: {}' .format(test_acc))"
   ]
  },
  {
   "cell_type": "markdown",
   "metadata": {},
   "source": [
    "### AdaBoost Classifier"
   ]
  },
  {
   "cell_type": "code",
   "execution_count": 67,
   "metadata": {},
   "outputs": [
    {
     "name": "stderr",
     "output_type": "stream",
     "text": [
      "c:\\ProgramData\\anaconda3\\Lib\\site-packages\\sklearn\\utils\\validation.py:1184: DataConversionWarning: A column-vector y was passed when a 1d array was expected. Please change the shape of y to (n_samples, ), for example using ravel().\n",
      "  y = column_or_1d(y, warn=True)\n"
     ]
    },
    {
     "data": {
      "text/html": [
       "<style>#sk-container-id-11 {color: black;}#sk-container-id-11 pre{padding: 0;}#sk-container-id-11 div.sk-toggleable {background-color: white;}#sk-container-id-11 label.sk-toggleable__label {cursor: pointer;display: block;width: 100%;margin-bottom: 0;padding: 0.3em;box-sizing: border-box;text-align: center;}#sk-container-id-11 label.sk-toggleable__label-arrow:before {content: \"▸\";float: left;margin-right: 0.25em;color: #696969;}#sk-container-id-11 label.sk-toggleable__label-arrow:hover:before {color: black;}#sk-container-id-11 div.sk-estimator:hover label.sk-toggleable__label-arrow:before {color: black;}#sk-container-id-11 div.sk-toggleable__content {max-height: 0;max-width: 0;overflow: hidden;text-align: left;background-color: #f0f8ff;}#sk-container-id-11 div.sk-toggleable__content pre {margin: 0.2em;color: black;border-radius: 0.25em;background-color: #f0f8ff;}#sk-container-id-11 input.sk-toggleable__control:checked~div.sk-toggleable__content {max-height: 200px;max-width: 100%;overflow: auto;}#sk-container-id-11 input.sk-toggleable__control:checked~label.sk-toggleable__label-arrow:before {content: \"▾\";}#sk-container-id-11 div.sk-estimator input.sk-toggleable__control:checked~label.sk-toggleable__label {background-color: #d4ebff;}#sk-container-id-11 div.sk-label input.sk-toggleable__control:checked~label.sk-toggleable__label {background-color: #d4ebff;}#sk-container-id-11 input.sk-hidden--visually {border: 0;clip: rect(1px 1px 1px 1px);clip: rect(1px, 1px, 1px, 1px);height: 1px;margin: -1px;overflow: hidden;padding: 0;position: absolute;width: 1px;}#sk-container-id-11 div.sk-estimator {font-family: monospace;background-color: #f0f8ff;border: 1px dotted black;border-radius: 0.25em;box-sizing: border-box;margin-bottom: 0.5em;}#sk-container-id-11 div.sk-estimator:hover {background-color: #d4ebff;}#sk-container-id-11 div.sk-parallel-item::after {content: \"\";width: 100%;border-bottom: 1px solid gray;flex-grow: 1;}#sk-container-id-11 div.sk-label:hover label.sk-toggleable__label {background-color: #d4ebff;}#sk-container-id-11 div.sk-serial::before {content: \"\";position: absolute;border-left: 1px solid gray;box-sizing: border-box;top: 0;bottom: 0;left: 50%;z-index: 0;}#sk-container-id-11 div.sk-serial {display: flex;flex-direction: column;align-items: center;background-color: white;padding-right: 0.2em;padding-left: 0.2em;position: relative;}#sk-container-id-11 div.sk-item {position: relative;z-index: 1;}#sk-container-id-11 div.sk-parallel {display: flex;align-items: stretch;justify-content: center;background-color: white;position: relative;}#sk-container-id-11 div.sk-item::before, #sk-container-id-11 div.sk-parallel-item::before {content: \"\";position: absolute;border-left: 1px solid gray;box-sizing: border-box;top: 0;bottom: 0;left: 50%;z-index: -1;}#sk-container-id-11 div.sk-parallel-item {display: flex;flex-direction: column;z-index: 1;position: relative;background-color: white;}#sk-container-id-11 div.sk-parallel-item:first-child::after {align-self: flex-end;width: 50%;}#sk-container-id-11 div.sk-parallel-item:last-child::after {align-self: flex-start;width: 50%;}#sk-container-id-11 div.sk-parallel-item:only-child::after {width: 0;}#sk-container-id-11 div.sk-dashed-wrapped {border: 1px dashed gray;margin: 0 0.4em 0.5em 0.4em;box-sizing: border-box;padding-bottom: 0.4em;background-color: white;}#sk-container-id-11 div.sk-label label {font-family: monospace;font-weight: bold;display: inline-block;line-height: 1.2em;}#sk-container-id-11 div.sk-label-container {text-align: center;}#sk-container-id-11 div.sk-container {/* jupyter's `normalize.less` sets `[hidden] { display: none; }` but bootstrap.min.css set `[hidden] { display: none !important; }` so we also need the `!important` here to be able to override the default hidden behavior on the sphinx rendered scikit-learn.org. See: https://github.com/scikit-learn/scikit-learn/issues/21755 */display: inline-block !important;position: relative;}#sk-container-id-11 div.sk-text-repr-fallback {display: none;}</style><div id=\"sk-container-id-11\" class=\"sk-top-container\"><div class=\"sk-text-repr-fallback\"><pre>AdaBoostClassifier(estimator=DecisionTreeClassifier(max_depth=5),\n",
       "                   learning_rate=0.1)</pre><b>In a Jupyter environment, please rerun this cell to show the HTML representation or trust the notebook. <br />On GitHub, the HTML representation is unable to render, please try loading this page with nbviewer.org.</b></div><div class=\"sk-container\" hidden><div class=\"sk-item sk-dashed-wrapped\"><div class=\"sk-label-container\"><div class=\"sk-label sk-toggleable\"><input class=\"sk-toggleable__control sk-hidden--visually\" id=\"sk-estimator-id-16\" type=\"checkbox\" ><label for=\"sk-estimator-id-16\" class=\"sk-toggleable__label sk-toggleable__label-arrow\">AdaBoostClassifier</label><div class=\"sk-toggleable__content\"><pre>AdaBoostClassifier(estimator=DecisionTreeClassifier(max_depth=5),\n",
       "                   learning_rate=0.1)</pre></div></div></div><div class=\"sk-parallel\"><div class=\"sk-parallel-item\"><div class=\"sk-item\"><div class=\"sk-label-container\"><div class=\"sk-label sk-toggleable\"><input class=\"sk-toggleable__control sk-hidden--visually\" id=\"sk-estimator-id-17\" type=\"checkbox\" ><label for=\"sk-estimator-id-17\" class=\"sk-toggleable__label sk-toggleable__label-arrow\">estimator: DecisionTreeClassifier</label><div class=\"sk-toggleable__content\"><pre>DecisionTreeClassifier(max_depth=5)</pre></div></div></div><div class=\"sk-serial\"><div class=\"sk-item\"><div class=\"sk-estimator sk-toggleable\"><input class=\"sk-toggleable__control sk-hidden--visually\" id=\"sk-estimator-id-18\" type=\"checkbox\" ><label for=\"sk-estimator-id-18\" class=\"sk-toggleable__label sk-toggleable__label-arrow\">DecisionTreeClassifier</label><div class=\"sk-toggleable__content\"><pre>DecisionTreeClassifier(max_depth=5)</pre></div></div></div></div></div></div></div></div></div></div>"
      ],
      "text/plain": [
       "AdaBoostClassifier(estimator=DecisionTreeClassifier(max_depth=5),\n",
       "                   learning_rate=0.1)"
      ]
     },
     "execution_count": 67,
     "metadata": {},
     "output_type": "execute_result"
    }
   ],
   "source": [
    "from sklearn.ensemble import AdaBoostClassifier \n",
    "\n",
    "\n",
    "ada_clf = AdaBoostClassifier( \n",
    "            DecisionTreeClassifier(max_depth=5), n_estimators=50, \n",
    "            learning_rate=0.1) \n",
    "\n",
    "\n",
    "ada_clf.fit(train_x, train_y)"
   ]
  },
  {
   "cell_type": "code",
   "execution_count": 68,
   "metadata": {},
   "outputs": [
    {
     "name": "stdout",
     "output_type": "stream",
     "text": [
      "Train acc: 1.0\n"
     ]
    }
   ],
   "source": [
    "#Train accuracy\n",
    "\n",
    "train_y_pred = ada_clf.predict(train_x)\n",
    "\n",
    "train_acc = accuracy_score(train_y, train_y_pred)\n",
    "\n",
    "print('Train acc: {}' .format(train_acc))"
   ]
  },
  {
   "cell_type": "code",
   "execution_count": 69,
   "metadata": {},
   "outputs": [
    {
     "name": "stdout",
     "output_type": "stream",
     "text": [
      "Test acc: 0.822463768115942\n"
     ]
    }
   ],
   "source": [
    "#Test accuracy\n",
    "\n",
    "test_y_pred = ada_clf.predict(test_x)\n",
    "\n",
    "test_acc = accuracy_score(test_y, test_y_pred)\n",
    "\n",
    "print('Test acc: {}' .format(test_acc))"
   ]
  },
  {
   "cell_type": "markdown",
   "metadata": {},
   "source": [
    "### Neural Network"
   ]
  },
  {
   "cell_type": "code",
   "execution_count": 70,
   "metadata": {},
   "outputs": [
    {
     "name": "stderr",
     "output_type": "stream",
     "text": [
      "c:\\ProgramData\\anaconda3\\Lib\\site-packages\\sklearn\\neural_network\\_multilayer_perceptron.py:1102: DataConversionWarning: A column-vector y was passed when a 1d array was expected. Please change the shape of y to (n_samples, ), for example using ravel().\n",
      "  y = column_or_1d(y, warn=True)\n",
      "c:\\ProgramData\\anaconda3\\Lib\\site-packages\\sklearn\\neural_network\\_multilayer_perceptron.py:691: ConvergenceWarning: Stochastic Optimizer: Maximum iterations (200) reached and the optimization hasn't converged yet.\n",
      "  warnings.warn(\n"
     ]
    },
    {
     "data": {
      "text/html": [
       "<style>#sk-container-id-12 {color: black;}#sk-container-id-12 pre{padding: 0;}#sk-container-id-12 div.sk-toggleable {background-color: white;}#sk-container-id-12 label.sk-toggleable__label {cursor: pointer;display: block;width: 100%;margin-bottom: 0;padding: 0.3em;box-sizing: border-box;text-align: center;}#sk-container-id-12 label.sk-toggleable__label-arrow:before {content: \"▸\";float: left;margin-right: 0.25em;color: #696969;}#sk-container-id-12 label.sk-toggleable__label-arrow:hover:before {color: black;}#sk-container-id-12 div.sk-estimator:hover label.sk-toggleable__label-arrow:before {color: black;}#sk-container-id-12 div.sk-toggleable__content {max-height: 0;max-width: 0;overflow: hidden;text-align: left;background-color: #f0f8ff;}#sk-container-id-12 div.sk-toggleable__content pre {margin: 0.2em;color: black;border-radius: 0.25em;background-color: #f0f8ff;}#sk-container-id-12 input.sk-toggleable__control:checked~div.sk-toggleable__content {max-height: 200px;max-width: 100%;overflow: auto;}#sk-container-id-12 input.sk-toggleable__control:checked~label.sk-toggleable__label-arrow:before {content: \"▾\";}#sk-container-id-12 div.sk-estimator input.sk-toggleable__control:checked~label.sk-toggleable__label {background-color: #d4ebff;}#sk-container-id-12 div.sk-label input.sk-toggleable__control:checked~label.sk-toggleable__label {background-color: #d4ebff;}#sk-container-id-12 input.sk-hidden--visually {border: 0;clip: rect(1px 1px 1px 1px);clip: rect(1px, 1px, 1px, 1px);height: 1px;margin: -1px;overflow: hidden;padding: 0;position: absolute;width: 1px;}#sk-container-id-12 div.sk-estimator {font-family: monospace;background-color: #f0f8ff;border: 1px dotted black;border-radius: 0.25em;box-sizing: border-box;margin-bottom: 0.5em;}#sk-container-id-12 div.sk-estimator:hover {background-color: #d4ebff;}#sk-container-id-12 div.sk-parallel-item::after {content: \"\";width: 100%;border-bottom: 1px solid gray;flex-grow: 1;}#sk-container-id-12 div.sk-label:hover label.sk-toggleable__label {background-color: #d4ebff;}#sk-container-id-12 div.sk-serial::before {content: \"\";position: absolute;border-left: 1px solid gray;box-sizing: border-box;top: 0;bottom: 0;left: 50%;z-index: 0;}#sk-container-id-12 div.sk-serial {display: flex;flex-direction: column;align-items: center;background-color: white;padding-right: 0.2em;padding-left: 0.2em;position: relative;}#sk-container-id-12 div.sk-item {position: relative;z-index: 1;}#sk-container-id-12 div.sk-parallel {display: flex;align-items: stretch;justify-content: center;background-color: white;position: relative;}#sk-container-id-12 div.sk-item::before, #sk-container-id-12 div.sk-parallel-item::before {content: \"\";position: absolute;border-left: 1px solid gray;box-sizing: border-box;top: 0;bottom: 0;left: 50%;z-index: -1;}#sk-container-id-12 div.sk-parallel-item {display: flex;flex-direction: column;z-index: 1;position: relative;background-color: white;}#sk-container-id-12 div.sk-parallel-item:first-child::after {align-self: flex-end;width: 50%;}#sk-container-id-12 div.sk-parallel-item:last-child::after {align-self: flex-start;width: 50%;}#sk-container-id-12 div.sk-parallel-item:only-child::after {width: 0;}#sk-container-id-12 div.sk-dashed-wrapped {border: 1px dashed gray;margin: 0 0.4em 0.5em 0.4em;box-sizing: border-box;padding-bottom: 0.4em;background-color: white;}#sk-container-id-12 div.sk-label label {font-family: monospace;font-weight: bold;display: inline-block;line-height: 1.2em;}#sk-container-id-12 div.sk-label-container {text-align: center;}#sk-container-id-12 div.sk-container {/* jupyter's `normalize.less` sets `[hidden] { display: none; }` but bootstrap.min.css set `[hidden] { display: none !important; }` so we also need the `!important` here to be able to override the default hidden behavior on the sphinx rendered scikit-learn.org. See: https://github.com/scikit-learn/scikit-learn/issues/21755 */display: inline-block !important;position: relative;}#sk-container-id-12 div.sk-text-repr-fallback {display: none;}</style><div id=\"sk-container-id-12\" class=\"sk-top-container\"><div class=\"sk-text-repr-fallback\"><pre>MLPClassifier()</pre><b>In a Jupyter environment, please rerun this cell to show the HTML representation or trust the notebook. <br />On GitHub, the HTML representation is unable to render, please try loading this page with nbviewer.org.</b></div><div class=\"sk-container\" hidden><div class=\"sk-item\"><div class=\"sk-estimator sk-toggleable\"><input class=\"sk-toggleable__control sk-hidden--visually\" id=\"sk-estimator-id-19\" type=\"checkbox\" checked><label for=\"sk-estimator-id-19\" class=\"sk-toggleable__label sk-toggleable__label-arrow\">MLPClassifier</label><div class=\"sk-toggleable__content\"><pre>MLPClassifier()</pre></div></div></div></div></div>"
      ],
      "text/plain": [
       "MLPClassifier()"
      ]
     },
     "execution_count": 70,
     "metadata": {},
     "output_type": "execute_result"
    }
   ],
   "source": [
    "from sklearn.neural_network import MLPClassifier\n",
    "\n",
    "#Default settings create 1 hidden layer with 100 neurons\n",
    "mlp_clf = MLPClassifier(hidden_layer_sizes=(100,))\n",
    "\n",
    "mlp_clf.fit(train_x, train_y)"
   ]
  },
  {
   "cell_type": "code",
   "execution_count": 71,
   "metadata": {},
   "outputs": [
    {
     "data": {
      "text/plain": [
       "0.9330218068535826"
      ]
     },
     "execution_count": 71,
     "metadata": {},
     "output_type": "execute_result"
    }
   ],
   "source": [
    "#Predict the train values\n",
    "train_y_pred = mlp_clf.predict(train_x)\n",
    "\n",
    "#Train accuracy\n",
    "accuracy_score(train_y, train_y_pred)"
   ]
  },
  {
   "cell_type": "code",
   "execution_count": 72,
   "metadata": {},
   "outputs": [
    {
     "data": {
      "text/plain": [
       "0.8876811594202898"
      ]
     },
     "execution_count": 72,
     "metadata": {},
     "output_type": "execute_result"
    }
   ],
   "source": [
    "#Predict the test values\n",
    "test_y_pred = mlp_clf.predict(test_x)\n",
    "\n",
    "#Test accuracy\n",
    "accuracy_score(test_y, test_y_pred)"
   ]
  },
  {
   "cell_type": "code",
   "execution_count": 73,
   "metadata": {},
   "outputs": [
    {
     "data": {
      "text/plain": [
       "array([[ 99,  15],\n",
       "       [ 16, 146]], dtype=int64)"
      ]
     },
     "execution_count": 73,
     "metadata": {},
     "output_type": "execute_result"
    }
   ],
   "source": [
    "#We usually create the confusion matrix on test set\n",
    "confusion_matrix(test_y, test_y_pred)"
   ]
  },
  {
   "cell_type": "code",
   "execution_count": 74,
   "metadata": {},
   "outputs": [
    {
     "name": "stderr",
     "output_type": "stream",
     "text": [
      "c:\\ProgramData\\anaconda3\\Lib\\site-packages\\sklearn\\neural_network\\_multilayer_perceptron.py:1102: DataConversionWarning: A column-vector y was passed when a 1d array was expected. Please change the shape of y to (n_samples, ), for example using ravel().\n",
      "  y = column_or_1d(y, warn=True)\n"
     ]
    },
    {
     "name": "stdout",
     "output_type": "stream",
     "text": [
      "Iteration 1, loss = 0.68893499\n",
      "Iteration 2, loss = 0.63413675\n",
      "Iteration 3, loss = 0.58901242\n",
      "Iteration 4, loss = 0.55039114\n",
      "Iteration 5, loss = 0.51782497\n",
      "Iteration 6, loss = 0.48983088\n",
      "Iteration 7, loss = 0.46701421\n",
      "Iteration 8, loss = 0.44726998\n",
      "Iteration 9, loss = 0.43130803\n",
      "Iteration 10, loss = 0.41762839\n",
      "Iteration 11, loss = 0.40662323\n",
      "Iteration 12, loss = 0.39662307\n",
      "Iteration 13, loss = 0.38801093\n",
      "Iteration 14, loss = 0.38109200\n",
      "Iteration 15, loss = 0.37464636\n",
      "Iteration 16, loss = 0.36866766\n",
      "Iteration 17, loss = 0.36390705\n",
      "Iteration 18, loss = 0.35937562\n",
      "Iteration 19, loss = 0.35462543\n",
      "Iteration 20, loss = 0.35110452\n",
      "Iteration 21, loss = 0.34750777\n",
      "Iteration 22, loss = 0.34428451\n",
      "Iteration 23, loss = 0.34123116\n",
      "Iteration 24, loss = 0.33843354\n",
      "Iteration 25, loss = 0.33569552\n",
      "Iteration 26, loss = 0.33289764\n",
      "Iteration 27, loss = 0.33051208\n",
      "Iteration 28, loss = 0.32821750\n",
      "Iteration 29, loss = 0.32579188\n",
      "Iteration 30, loss = 0.32374494\n",
      "Iteration 31, loss = 0.32182802\n",
      "Iteration 32, loss = 0.31992180\n",
      "Iteration 33, loss = 0.31859240\n",
      "Iteration 34, loss = 0.31696554\n",
      "Iteration 35, loss = 0.31550054\n",
      "Iteration 36, loss = 0.31382791\n",
      "Iteration 37, loss = 0.31203902\n",
      "Iteration 38, loss = 0.31064652\n",
      "Iteration 39, loss = 0.30918162\n",
      "Iteration 40, loss = 0.30796982\n",
      "Iteration 41, loss = 0.30660650\n",
      "Iteration 42, loss = 0.30530727\n",
      "Iteration 43, loss = 0.30411946\n",
      "Iteration 44, loss = 0.30298912\n",
      "Iteration 45, loss = 0.30171939\n",
      "Iteration 46, loss = 0.30050398\n",
      "Iteration 47, loss = 0.29929918\n",
      "Iteration 48, loss = 0.29811403\n",
      "Iteration 49, loss = 0.29730155\n",
      "Iteration 50, loss = 0.29615182\n",
      "Iteration 51, loss = 0.29507484\n",
      "Iteration 52, loss = 0.29391055\n",
      "Iteration 53, loss = 0.29336464\n",
      "Iteration 54, loss = 0.29247997\n",
      "Iteration 55, loss = 0.29154524\n",
      "Iteration 56, loss = 0.29030772\n",
      "Iteration 57, loss = 0.28944984\n",
      "Iteration 58, loss = 0.28855214\n",
      "Iteration 59, loss = 0.28781828\n",
      "Iteration 60, loss = 0.28735207\n",
      "Iteration 61, loss = 0.28661724\n",
      "Iteration 62, loss = 0.28564712\n",
      "Iteration 63, loss = 0.28466461\n",
      "Iteration 64, loss = 0.28359729\n",
      "Iteration 65, loss = 0.28264093\n",
      "Iteration 66, loss = 0.28187746\n",
      "Iteration 67, loss = 0.28102799\n",
      "Iteration 68, loss = 0.28024163\n",
      "Iteration 69, loss = 0.27926240\n",
      "Iteration 70, loss = 0.27854648\n",
      "Iteration 71, loss = 0.27785996\n",
      "Iteration 72, loss = 0.27721997\n",
      "Iteration 73, loss = 0.27645124\n",
      "Iteration 74, loss = 0.27564007\n",
      "Iteration 75, loss = 0.27486486\n",
      "Iteration 76, loss = 0.27391289\n",
      "Iteration 77, loss = 0.27315006\n",
      "Iteration 78, loss = 0.27254604\n",
      "Iteration 79, loss = 0.27166713\n",
      "Iteration 80, loss = 0.27084369\n",
      "Iteration 81, loss = 0.26995821\n",
      "Iteration 82, loss = 0.26947457\n",
      "Iteration 83, loss = 0.26904064\n",
      "Iteration 84, loss = 0.26861132\n",
      "Iteration 85, loss = 0.26754398\n",
      "Iteration 86, loss = 0.26649381\n",
      "Iteration 87, loss = 0.26560895\n",
      "Iteration 88, loss = 0.26505535\n",
      "Iteration 89, loss = 0.26433896\n",
      "Iteration 90, loss = 0.26349075\n",
      "Iteration 91, loss = 0.26286424\n",
      "Iteration 92, loss = 0.26191100\n",
      "Iteration 93, loss = 0.26123914\n",
      "Iteration 94, loss = 0.26056666\n",
      "Iteration 95, loss = 0.25991497\n",
      "Iteration 96, loss = 0.25927443\n",
      "Iteration 97, loss = 0.25894128\n",
      "Iteration 98, loss = 0.25804288\n",
      "Iteration 99, loss = 0.25738905\n",
      "Iteration 100, loss = 0.25663168\n",
      "Iteration 101, loss = 0.25591325\n",
      "Iteration 102, loss = 0.25500056\n",
      "Iteration 103, loss = 0.25447409\n",
      "Iteration 104, loss = 0.25400305\n",
      "Iteration 105, loss = 0.25319991\n",
      "Iteration 106, loss = 0.25247419\n",
      "Iteration 107, loss = 0.25185564\n",
      "Iteration 108, loss = 0.25125939\n",
      "Iteration 109, loss = 0.25058500\n",
      "Iteration 110, loss = 0.24984808\n",
      "Iteration 111, loss = 0.24915611\n",
      "Iteration 112, loss = 0.24875176\n",
      "Iteration 113, loss = 0.24819076\n",
      "Iteration 114, loss = 0.24710286\n",
      "Iteration 115, loss = 0.24651701\n",
      "Iteration 116, loss = 0.24600697\n",
      "Iteration 117, loss = 0.24549826\n",
      "Iteration 118, loss = 0.24494004\n",
      "Iteration 119, loss = 0.24425654\n",
      "Iteration 120, loss = 0.24360856\n",
      "Iteration 121, loss = 0.24309196\n",
      "Iteration 122, loss = 0.24243411\n",
      "Iteration 123, loss = 0.24173306\n",
      "Iteration 124, loss = 0.24105637\n",
      "Iteration 125, loss = 0.24052944\n",
      "Iteration 126, loss = 0.23984676\n",
      "Iteration 127, loss = 0.23929777\n",
      "Iteration 128, loss = 0.23880452\n",
      "Iteration 129, loss = 0.23864144\n",
      "Iteration 130, loss = 0.23791707\n",
      "Iteration 131, loss = 0.23752507\n",
      "Iteration 132, loss = 0.23653857\n",
      "Iteration 133, loss = 0.23634690\n",
      "Iteration 134, loss = 0.23610261\n",
      "Iteration 135, loss = 0.23509083\n",
      "Iteration 136, loss = 0.23425816\n",
      "Iteration 137, loss = 0.23352146\n",
      "Iteration 138, loss = 0.23336080\n",
      "Iteration 139, loss = 0.23244174\n",
      "Iteration 140, loss = 0.23229293\n",
      "Iteration 141, loss = 0.23121262\n",
      "Iteration 142, loss = 0.23099856\n",
      "Iteration 143, loss = 0.23070340\n",
      "Iteration 144, loss = 0.23000661\n",
      "Iteration 145, loss = 0.22878821\n",
      "Iteration 146, loss = 0.22817048\n",
      "Iteration 147, loss = 0.22732969\n",
      "Iteration 148, loss = 0.22717403\n",
      "Iteration 149, loss = 0.22657664\n",
      "Iteration 150, loss = 0.22620040\n",
      "Iteration 151, loss = 0.22591037\n",
      "Iteration 152, loss = 0.22490299\n",
      "Iteration 153, loss = 0.22422290\n",
      "Iteration 154, loss = 0.22368509\n",
      "Iteration 155, loss = 0.22351626\n",
      "Iteration 156, loss = 0.22332799\n",
      "Iteration 157, loss = 0.22295311\n",
      "Iteration 158, loss = 0.22195277\n",
      "Iteration 159, loss = 0.22105338\n",
      "Iteration 160, loss = 0.22057044\n",
      "Iteration 161, loss = 0.22045659\n",
      "Iteration 162, loss = 0.21986412\n",
      "Iteration 163, loss = 0.21928348\n",
      "Iteration 164, loss = 0.21869572\n",
      "Iteration 165, loss = 0.21828382\n",
      "Iteration 166, loss = 0.21765656\n",
      "Iteration 167, loss = 0.21727552\n",
      "Iteration 168, loss = 0.21667688\n",
      "Iteration 169, loss = 0.21627069\n",
      "Iteration 170, loss = 0.21548649\n",
      "Iteration 171, loss = 0.21526999\n",
      "Iteration 172, loss = 0.21443757\n",
      "Iteration 173, loss = 0.21374118\n",
      "Iteration 174, loss = 0.21339779\n",
      "Iteration 175, loss = 0.21293505\n",
      "Iteration 176, loss = 0.21248542\n",
      "Iteration 177, loss = 0.21188911\n",
      "Iteration 178, loss = 0.21166323\n",
      "Iteration 179, loss = 0.21103841\n",
      "Iteration 180, loss = 0.21039906\n",
      "Iteration 181, loss = 0.20986181\n",
      "Iteration 182, loss = 0.20932855\n",
      "Iteration 183, loss = 0.20912515\n",
      "Iteration 184, loss = 0.20882125\n",
      "Iteration 185, loss = 0.20849145\n",
      "Iteration 186, loss = 0.20747313\n",
      "Iteration 187, loss = 0.20732182\n",
      "Iteration 188, loss = 0.20677393\n",
      "Iteration 189, loss = 0.20634473\n",
      "Iteration 190, loss = 0.20576786\n",
      "Iteration 191, loss = 0.20529623\n",
      "Iteration 192, loss = 0.20495468\n",
      "Iteration 193, loss = 0.20463547\n",
      "Iteration 194, loss = 0.20405661\n",
      "Iteration 195, loss = 0.20329243\n",
      "Iteration 196, loss = 0.20285560\n",
      "Iteration 197, loss = 0.20246793\n",
      "Iteration 198, loss = 0.20214590\n",
      "Iteration 199, loss = 0.20173292\n",
      "Iteration 200, loss = 0.20096041\n",
      "Iteration 201, loss = 0.20030320\n",
      "Iteration 202, loss = 0.20036249\n",
      "Iteration 203, loss = 0.20007187\n",
      "Iteration 204, loss = 0.19946468\n",
      "Iteration 205, loss = 0.19916808\n",
      "Iteration 206, loss = 0.19843702\n",
      "Iteration 207, loss = 0.19790324\n",
      "Iteration 208, loss = 0.19754687\n",
      "Iteration 209, loss = 0.19722221\n",
      "Iteration 210, loss = 0.19667532\n",
      "Iteration 211, loss = 0.19593691\n",
      "Iteration 212, loss = 0.19578944\n",
      "Iteration 213, loss = 0.19555731\n",
      "Iteration 214, loss = 0.19525433\n",
      "Iteration 215, loss = 0.19462373\n",
      "Iteration 216, loss = 0.19408303\n",
      "Iteration 217, loss = 0.19360206\n",
      "Iteration 218, loss = 0.19314041\n",
      "Iteration 219, loss = 0.19259957\n",
      "Iteration 220, loss = 0.19231362\n",
      "Iteration 221, loss = 0.19156130\n",
      "Iteration 222, loss = 0.19107216\n",
      "Iteration 223, loss = 0.19109397\n",
      "Iteration 224, loss = 0.19040613\n",
      "Iteration 225, loss = 0.18972220\n",
      "Iteration 226, loss = 0.18954154\n",
      "Iteration 227, loss = 0.18927296\n",
      "Iteration 228, loss = 0.18881192\n",
      "Iteration 229, loss = 0.18824113\n",
      "Iteration 230, loss = 0.18812308\n",
      "Iteration 231, loss = 0.18760443\n",
      "Iteration 232, loss = 0.18724105\n",
      "Iteration 233, loss = 0.18667679\n",
      "Iteration 234, loss = 0.18643012\n",
      "Iteration 235, loss = 0.18576196\n",
      "Iteration 236, loss = 0.18529365\n",
      "Iteration 237, loss = 0.18465047\n",
      "Iteration 238, loss = 0.18448789\n",
      "Iteration 239, loss = 0.18437201\n",
      "Iteration 240, loss = 0.18401570\n",
      "Iteration 241, loss = 0.18342249\n",
      "Iteration 242, loss = 0.18316128\n",
      "Iteration 243, loss = 0.18276694\n",
      "Iteration 244, loss = 0.18286529\n",
      "Iteration 245, loss = 0.18227714\n",
      "Iteration 246, loss = 0.18120110\n",
      "Iteration 247, loss = 0.18108298\n",
      "Iteration 248, loss = 0.18076711\n",
      "Iteration 249, loss = 0.17997602\n",
      "Iteration 250, loss = 0.17952037\n",
      "Iteration 251, loss = 0.17892845\n",
      "Iteration 252, loss = 0.17846834\n",
      "Iteration 253, loss = 0.17823852\n",
      "Iteration 254, loss = 0.17765089\n",
      "Iteration 255, loss = 0.17732265\n",
      "Iteration 256, loss = 0.17683535\n",
      "Iteration 257, loss = 0.17658194\n",
      "Iteration 258, loss = 0.17625202\n",
      "Iteration 259, loss = 0.17586249\n",
      "Iteration 260, loss = 0.17550118\n",
      "Iteration 261, loss = 0.17514087\n",
      "Iteration 262, loss = 0.17462997\n",
      "Iteration 263, loss = 0.17443397\n",
      "Iteration 264, loss = 0.17378452\n",
      "Iteration 265, loss = 0.17329855\n",
      "Iteration 266, loss = 0.17302985\n",
      "Iteration 267, loss = 0.17270690\n",
      "Iteration 268, loss = 0.17227787\n",
      "Iteration 269, loss = 0.17194659\n",
      "Iteration 270, loss = 0.17150998\n",
      "Iteration 271, loss = 0.17087667\n",
      "Iteration 272, loss = 0.17045213\n",
      "Iteration 273, loss = 0.17025317\n",
      "Iteration 274, loss = 0.16974039\n",
      "Iteration 275, loss = 0.16935073\n",
      "Iteration 276, loss = 0.16916247\n",
      "Iteration 277, loss = 0.16907141\n",
      "Iteration 278, loss = 0.16796903\n",
      "Iteration 279, loss = 0.16789095\n",
      "Iteration 280, loss = 0.16834095\n",
      "Iteration 281, loss = 0.16767451\n",
      "Iteration 282, loss = 0.16690988\n",
      "Iteration 283, loss = 0.16625868\n",
      "Iteration 284, loss = 0.16580290\n",
      "Iteration 285, loss = 0.16556549\n",
      "Iteration 286, loss = 0.16530521\n",
      "Iteration 287, loss = 0.16495417\n",
      "Iteration 288, loss = 0.16474887\n",
      "Iteration 289, loss = 0.16416721\n",
      "Iteration 290, loss = 0.16378389\n",
      "Iteration 291, loss = 0.16329863\n",
      "Iteration 292, loss = 0.16324875\n",
      "Iteration 293, loss = 0.16268511\n",
      "Iteration 294, loss = 0.16234369\n",
      "Iteration 295, loss = 0.16177879\n",
      "Iteration 296, loss = 0.16148517\n",
      "Iteration 297, loss = 0.16122847\n",
      "Iteration 298, loss = 0.16062933\n",
      "Iteration 299, loss = 0.16055427\n",
      "Iteration 300, loss = 0.16008655\n",
      "Iteration 301, loss = 0.15973459\n",
      "Iteration 302, loss = 0.15939775\n",
      "Iteration 303, loss = 0.15944350\n",
      "Iteration 304, loss = 0.15883565\n",
      "Iteration 305, loss = 0.15833721\n",
      "Iteration 306, loss = 0.15805177\n",
      "Iteration 307, loss = 0.15784074\n",
      "Iteration 308, loss = 0.15748266\n",
      "Iteration 309, loss = 0.15704168\n",
      "Iteration 310, loss = 0.15659671\n",
      "Iteration 311, loss = 0.15635222\n",
      "Iteration 312, loss = 0.15623417\n",
      "Iteration 313, loss = 0.15550634\n",
      "Iteration 314, loss = 0.15515705\n",
      "Iteration 315, loss = 0.15463466\n",
      "Iteration 316, loss = 0.15453166\n",
      "Iteration 317, loss = 0.15396542\n",
      "Iteration 318, loss = 0.15363822\n",
      "Iteration 319, loss = 0.15331286\n",
      "Iteration 320, loss = 0.15319736\n",
      "Iteration 321, loss = 0.15287085\n",
      "Iteration 322, loss = 0.15255018\n",
      "Iteration 323, loss = 0.15205329\n",
      "Iteration 324, loss = 0.15183289\n",
      "Iteration 325, loss = 0.15195220\n",
      "Iteration 326, loss = 0.15155152\n",
      "Iteration 327, loss = 0.15107893\n",
      "Iteration 328, loss = 0.15084183\n",
      "Iteration 329, loss = 0.14991061\n",
      "Iteration 330, loss = 0.14970311\n",
      "Iteration 331, loss = 0.14962869\n",
      "Iteration 332, loss = 0.14929508\n",
      "Iteration 333, loss = 0.14917165\n",
      "Iteration 334, loss = 0.14881950\n",
      "Iteration 335, loss = 0.14813218\n",
      "Iteration 336, loss = 0.14785807\n",
      "Iteration 337, loss = 0.14799841\n",
      "Iteration 338, loss = 0.14786641\n",
      "Iteration 339, loss = 0.14741051\n",
      "Iteration 340, loss = 0.14673737\n",
      "Iteration 341, loss = 0.14689930\n",
      "Iteration 342, loss = 0.14604892\n",
      "Iteration 343, loss = 0.14573627\n",
      "Iteration 344, loss = 0.14531704\n",
      "Iteration 345, loss = 0.14520686\n",
      "Iteration 346, loss = 0.14493130\n",
      "Iteration 347, loss = 0.14439694\n",
      "Iteration 348, loss = 0.14405440\n",
      "Iteration 349, loss = 0.14434908\n",
      "Iteration 350, loss = 0.14361570\n",
      "Iteration 351, loss = 0.14343509\n",
      "Iteration 352, loss = 0.14301024\n",
      "Iteration 353, loss = 0.14283764\n",
      "Iteration 354, loss = 0.14256364\n",
      "Iteration 355, loss = 0.14213377\n",
      "Iteration 356, loss = 0.14200512\n",
      "Iteration 357, loss = 0.14132782\n",
      "Iteration 358, loss = 0.14141843\n",
      "Iteration 359, loss = 0.14111138\n",
      "Iteration 360, loss = 0.14053218\n",
      "Iteration 361, loss = 0.14073486\n",
      "Iteration 362, loss = 0.13999907\n",
      "Iteration 363, loss = 0.13953452\n",
      "Iteration 364, loss = 0.13919625\n",
      "Iteration 365, loss = 0.13904610\n",
      "Iteration 366, loss = 0.13878890\n",
      "Iteration 367, loss = 0.13842330\n",
      "Iteration 368, loss = 0.13839888\n",
      "Iteration 369, loss = 0.13888645\n",
      "Iteration 370, loss = 0.13801216\n",
      "Iteration 371, loss = 0.13798947\n",
      "Iteration 372, loss = 0.13878548\n",
      "Iteration 373, loss = 0.13817132\n",
      "Iteration 374, loss = 0.13703519\n",
      "Iteration 375, loss = 0.13628558\n",
      "Iteration 376, loss = 0.13611387\n",
      "Iteration 377, loss = 0.13547130\n",
      "Iteration 378, loss = 0.13506740\n",
      "Iteration 379, loss = 0.13445262\n",
      "Iteration 380, loss = 0.13459868\n",
      "Iteration 381, loss = 0.13472855\n",
      "Iteration 382, loss = 0.13450037\n",
      "Iteration 383, loss = 0.13432830\n",
      "Iteration 384, loss = 0.13387950\n",
      "Iteration 385, loss = 0.13392169\n",
      "Iteration 386, loss = 0.13323845\n",
      "Iteration 387, loss = 0.13356481\n",
      "Iteration 388, loss = 0.13361266\n",
      "Iteration 389, loss = 0.13316462\n",
      "Iteration 390, loss = 0.13203916\n",
      "Iteration 391, loss = 0.13190782\n",
      "Iteration 392, loss = 0.13169472\n",
      "Iteration 393, loss = 0.13131451\n",
      "Iteration 394, loss = 0.13044437\n",
      "Iteration 395, loss = 0.13049439\n",
      "Iteration 396, loss = 0.13025255\n",
      "Iteration 397, loss = 0.13003491\n",
      "Iteration 398, loss = 0.12975023\n",
      "Iteration 399, loss = 0.12945565\n",
      "Iteration 400, loss = 0.12924048\n",
      "Iteration 401, loss = 0.12901700\n",
      "Iteration 402, loss = 0.12845621\n",
      "Iteration 403, loss = 0.12820394\n",
      "Iteration 404, loss = 0.12851129\n",
      "Iteration 405, loss = 0.12790603\n",
      "Iteration 406, loss = 0.12821682\n",
      "Iteration 407, loss = 0.12740663\n",
      "Iteration 408, loss = 0.12693302\n",
      "Iteration 409, loss = 0.12655923\n",
      "Iteration 410, loss = 0.12603451\n",
      "Iteration 411, loss = 0.12604845\n",
      "Iteration 412, loss = 0.12611711\n",
      "Iteration 413, loss = 0.12594310\n",
      "Iteration 414, loss = 0.12522206\n",
      "Iteration 415, loss = 0.12511551\n",
      "Iteration 416, loss = 0.12501810\n",
      "Iteration 417, loss = 0.12475212\n",
      "Iteration 418, loss = 0.12412243\n",
      "Iteration 419, loss = 0.12387677\n",
      "Iteration 420, loss = 0.12402472\n",
      "Iteration 421, loss = 0.12469822\n",
      "Iteration 422, loss = 0.12423690\n",
      "Iteration 423, loss = 0.12329981\n",
      "Iteration 424, loss = 0.12272705\n",
      "Iteration 425, loss = 0.12233522\n",
      "Iteration 426, loss = 0.12242620\n",
      "Iteration 427, loss = 0.12186430\n",
      "Iteration 428, loss = 0.12182201\n",
      "Iteration 429, loss = 0.12170244\n",
      "Iteration 430, loss = 0.12125591\n",
      "Iteration 431, loss = 0.12094715\n",
      "Iteration 432, loss = 0.12097738\n",
      "Iteration 433, loss = 0.12083134\n",
      "Iteration 434, loss = 0.12040291\n",
      "Iteration 435, loss = 0.12029417\n",
      "Iteration 436, loss = 0.11993716\n",
      "Iteration 437, loss = 0.11961288\n",
      "Iteration 438, loss = 0.11921494\n",
      "Iteration 439, loss = 0.11900447\n",
      "Iteration 440, loss = 0.11884972\n",
      "Iteration 441, loss = 0.11801448\n",
      "Iteration 442, loss = 0.11766326\n",
      "Iteration 443, loss = 0.11957196\n",
      "Iteration 444, loss = 0.11913549\n",
      "Iteration 445, loss = 0.11732286\n",
      "Iteration 446, loss = 0.11743291\n",
      "Iteration 447, loss = 0.11726298\n",
      "Iteration 448, loss = 0.11661128\n",
      "Iteration 449, loss = 0.11629632\n",
      "Iteration 450, loss = 0.11667280\n",
      "Iteration 451, loss = 0.11618894\n",
      "Iteration 452, loss = 0.11591296\n",
      "Iteration 453, loss = 0.11602293\n",
      "Iteration 454, loss = 0.11577810\n",
      "Iteration 455, loss = 0.11524114\n",
      "Iteration 456, loss = 0.11458693\n",
      "Iteration 457, loss = 0.11433846\n",
      "Iteration 458, loss = 0.11490354\n",
      "Iteration 459, loss = 0.11435660\n",
      "Iteration 460, loss = 0.11355627\n",
      "Iteration 461, loss = 0.11382062\n",
      "Iteration 462, loss = 0.11332100\n",
      "Iteration 463, loss = 0.11329683\n",
      "Iteration 464, loss = 0.11257158\n",
      "Iteration 465, loss = 0.11279855\n",
      "Iteration 466, loss = 0.11263417\n",
      "Iteration 467, loss = 0.11198850\n",
      "Iteration 468, loss = 0.11164624\n",
      "Iteration 469, loss = 0.11137185\n",
      "Iteration 470, loss = 0.11123268\n",
      "Iteration 471, loss = 0.11105072\n",
      "Iteration 472, loss = 0.11121273\n",
      "Iteration 473, loss = 0.11069685\n",
      "Iteration 474, loss = 0.11023119\n",
      "Iteration 475, loss = 0.11058824\n",
      "Iteration 476, loss = 0.11052963\n",
      "Iteration 477, loss = 0.10968242\n",
      "Iteration 478, loss = 0.10943763\n",
      "Iteration 479, loss = 0.10927290\n",
      "Iteration 480, loss = 0.10905263\n",
      "Iteration 481, loss = 0.10872020\n",
      "Iteration 482, loss = 0.10845136\n",
      "Iteration 483, loss = 0.10861387\n",
      "Iteration 484, loss = 0.10890307\n",
      "Iteration 485, loss = 0.10824615\n",
      "Iteration 486, loss = 0.10745144\n",
      "Iteration 487, loss = 0.10716724\n",
      "Iteration 488, loss = 0.10728247\n",
      "Iteration 489, loss = 0.10704913\n",
      "Iteration 490, loss = 0.10687258\n",
      "Iteration 491, loss = 0.10643202\n",
      "Iteration 492, loss = 0.10630756\n",
      "Iteration 493, loss = 0.10596718\n",
      "Iteration 494, loss = 0.10583387\n",
      "Iteration 495, loss = 0.10564728\n",
      "Iteration 496, loss = 0.10545127\n",
      "Iteration 497, loss = 0.10525763\n",
      "Iteration 498, loss = 0.10481395\n",
      "Iteration 499, loss = 0.10456900\n",
      "Iteration 500, loss = 0.10448093\n",
      "Iteration 501, loss = 0.10435450\n",
      "Iteration 502, loss = 0.10425294\n",
      "Iteration 503, loss = 0.10384410\n",
      "Iteration 504, loss = 0.10344589\n",
      "Iteration 505, loss = 0.10335387\n",
      "Iteration 506, loss = 0.10344141\n",
      "Iteration 507, loss = 0.10334422\n",
      "Iteration 508, loss = 0.10290521\n",
      "Iteration 509, loss = 0.10264159\n",
      "Iteration 510, loss = 0.10261030\n",
      "Iteration 511, loss = 0.10250243\n",
      "Iteration 512, loss = 0.10214376\n",
      "Iteration 513, loss = 0.10214410\n",
      "Iteration 514, loss = 0.10166668\n",
      "Iteration 515, loss = 0.10142850\n",
      "Iteration 516, loss = 0.10127668\n",
      "Iteration 517, loss = 0.10111660\n",
      "Iteration 518, loss = 0.10128341\n",
      "Iteration 519, loss = 0.10051067\n",
      "Iteration 520, loss = 0.10063684\n",
      "Iteration 521, loss = 0.10087045\n",
      "Iteration 522, loss = 0.10025320\n",
      "Iteration 523, loss = 0.09943330\n",
      "Iteration 524, loss = 0.09948414\n",
      "Iteration 525, loss = 0.09970826\n",
      "Iteration 526, loss = 0.09922030\n",
      "Iteration 527, loss = 0.09895265\n",
      "Iteration 528, loss = 0.09867730\n",
      "Iteration 529, loss = 0.09837564\n",
      "Iteration 530, loss = 0.09862425\n",
      "Iteration 531, loss = 0.09857094\n",
      "Iteration 532, loss = 0.09800384\n",
      "Iteration 533, loss = 0.09775372\n",
      "Iteration 534, loss = 0.09743260\n",
      "Iteration 535, loss = 0.09744706\n",
      "Iteration 536, loss = 0.09714655\n",
      "Iteration 537, loss = 0.09680071\n",
      "Iteration 538, loss = 0.09713308\n",
      "Iteration 539, loss = 0.09663374\n",
      "Iteration 540, loss = 0.09651120\n",
      "Iteration 541, loss = 0.09646858\n",
      "Iteration 542, loss = 0.09569716\n",
      "Iteration 543, loss = 0.09554427\n",
      "Iteration 544, loss = 0.09675237\n",
      "Iteration 545, loss = 0.09591147\n",
      "Iteration 546, loss = 0.09551783\n",
      "Iteration 547, loss = 0.09574682\n",
      "Iteration 548, loss = 0.09558716\n",
      "Iteration 549, loss = 0.09537315\n",
      "Iteration 550, loss = 0.09424206\n",
      "Iteration 551, loss = 0.09423342\n",
      "Iteration 552, loss = 0.09433900\n",
      "Iteration 553, loss = 0.09487785\n",
      "Iteration 554, loss = 0.09499756\n",
      "Iteration 555, loss = 0.09443701\n",
      "Iteration 556, loss = 0.09369133\n",
      "Iteration 557, loss = 0.09337976\n",
      "Iteration 558, loss = 0.09329786\n",
      "Iteration 559, loss = 0.09273244\n",
      "Iteration 560, loss = 0.09247105\n",
      "Iteration 561, loss = 0.09233109\n",
      "Iteration 562, loss = 0.09247399\n",
      "Iteration 563, loss = 0.09238905\n",
      "Iteration 564, loss = 0.09199403\n",
      "Iteration 565, loss = 0.09172294\n",
      "Iteration 566, loss = 0.09134940\n",
      "Iteration 567, loss = 0.09183530\n",
      "Iteration 568, loss = 0.09155628\n",
      "Iteration 569, loss = 0.09094363\n",
      "Iteration 570, loss = 0.09086860\n",
      "Iteration 571, loss = 0.09072805\n",
      "Iteration 572, loss = 0.09083628\n",
      "Iteration 573, loss = 0.09038013\n",
      "Iteration 574, loss = 0.08980503\n",
      "Iteration 575, loss = 0.09013190\n",
      "Iteration 576, loss = 0.09009776\n",
      "Iteration 577, loss = 0.08957817\n",
      "Iteration 578, loss = 0.08960537\n",
      "Iteration 579, loss = 0.08962819\n",
      "Iteration 580, loss = 0.08973839\n",
      "Iteration 581, loss = 0.08926213\n",
      "Iteration 582, loss = 0.08867532\n",
      "Iteration 583, loss = 0.08853836\n",
      "Iteration 584, loss = 0.08819146\n",
      "Iteration 585, loss = 0.08829217\n",
      "Iteration 586, loss = 0.08835217\n",
      "Iteration 587, loss = 0.08826442\n",
      "Iteration 588, loss = 0.08790038\n",
      "Iteration 589, loss = 0.08774915\n",
      "Iteration 590, loss = 0.08755961\n",
      "Iteration 591, loss = 0.08725052\n",
      "Iteration 592, loss = 0.08714758\n",
      "Iteration 593, loss = 0.08653490\n",
      "Iteration 594, loss = 0.08666435\n",
      "Iteration 595, loss = 0.08619624\n",
      "Iteration 596, loss = 0.08622243\n",
      "Iteration 597, loss = 0.08593297\n",
      "Iteration 598, loss = 0.08558144\n",
      "Iteration 599, loss = 0.08574140\n",
      "Iteration 600, loss = 0.08574081\n",
      "Iteration 601, loss = 0.08501979\n",
      "Iteration 602, loss = 0.08516566\n",
      "Iteration 603, loss = 0.08511135\n",
      "Iteration 604, loss = 0.08467786\n",
      "Iteration 605, loss = 0.08432827\n",
      "Iteration 606, loss = 0.08446403\n",
      "Iteration 607, loss = 0.08427519\n",
      "Iteration 608, loss = 0.08388709\n",
      "Iteration 609, loss = 0.08375744\n",
      "Iteration 610, loss = 0.08386678\n",
      "Iteration 611, loss = 0.08336632\n",
      "Iteration 612, loss = 0.08321716\n",
      "Iteration 613, loss = 0.08286614\n",
      "Iteration 614, loss = 0.08269822\n",
      "Iteration 615, loss = 0.08299871\n",
      "Iteration 616, loss = 0.08277876\n",
      "Iteration 617, loss = 0.08246874\n",
      "Iteration 618, loss = 0.08199873\n",
      "Iteration 619, loss = 0.08205309\n",
      "Iteration 620, loss = 0.08198408\n",
      "Iteration 621, loss = 0.08174018\n",
      "Iteration 622, loss = 0.08148958\n",
      "Iteration 623, loss = 0.08118069\n",
      "Iteration 624, loss = 0.08112356\n",
      "Iteration 625, loss = 0.08097593\n",
      "Iteration 626, loss = 0.08064696\n",
      "Iteration 627, loss = 0.08042914\n",
      "Iteration 628, loss = 0.08008732\n",
      "Iteration 629, loss = 0.08063664\n",
      "Iteration 630, loss = 0.08060047\n",
      "Iteration 631, loss = 0.08068495\n",
      "Iteration 632, loss = 0.08041677\n",
      "Iteration 633, loss = 0.07988779\n",
      "Iteration 634, loss = 0.07963650\n",
      "Iteration 635, loss = 0.07934345\n",
      "Iteration 636, loss = 0.07908202\n",
      "Iteration 637, loss = 0.07931494\n",
      "Iteration 638, loss = 0.07915617\n",
      "Iteration 639, loss = 0.07844880\n",
      "Iteration 640, loss = 0.07833660\n",
      "Iteration 641, loss = 0.07888305\n",
      "Iteration 642, loss = 0.07891046\n",
      "Iteration 643, loss = 0.07860416\n",
      "Iteration 644, loss = 0.07837876\n",
      "Iteration 645, loss = 0.07762591\n",
      "Iteration 646, loss = 0.07744642\n",
      "Iteration 647, loss = 0.07763107\n",
      "Iteration 648, loss = 0.07733456\n",
      "Iteration 649, loss = 0.07683207\n",
      "Iteration 650, loss = 0.07681099\n",
      "Iteration 651, loss = 0.07674634\n",
      "Iteration 652, loss = 0.07655877\n",
      "Iteration 653, loss = 0.07622738\n",
      "Iteration 654, loss = 0.07607140\n",
      "Iteration 655, loss = 0.07609986\n",
      "Iteration 656, loss = 0.07630164\n",
      "Iteration 657, loss = 0.07578301\n",
      "Iteration 658, loss = 0.07572473\n",
      "Iteration 659, loss = 0.07537879\n",
      "Iteration 660, loss = 0.07488360\n",
      "Iteration 661, loss = 0.07514143\n",
      "Iteration 662, loss = 0.07487927\n",
      "Iteration 663, loss = 0.07455697\n",
      "Iteration 664, loss = 0.07437489\n",
      "Iteration 665, loss = 0.07439344\n",
      "Iteration 666, loss = 0.07433115\n",
      "Iteration 667, loss = 0.07423702\n",
      "Iteration 668, loss = 0.07373828\n",
      "Iteration 669, loss = 0.07346534\n",
      "Iteration 670, loss = 0.07354788\n",
      "Iteration 671, loss = 0.07344240\n",
      "Iteration 672, loss = 0.07298035\n",
      "Iteration 673, loss = 0.07289349\n",
      "Iteration 674, loss = 0.07285883\n",
      "Iteration 675, loss = 0.07270262\n",
      "Iteration 676, loss = 0.07256312\n",
      "Iteration 677, loss = 0.07243862\n",
      "Iteration 678, loss = 0.07231943\n",
      "Iteration 679, loss = 0.07237394\n",
      "Iteration 680, loss = 0.07230431\n",
      "Iteration 681, loss = 0.07165619\n",
      "Iteration 682, loss = 0.07215624\n",
      "Iteration 683, loss = 0.07204841\n",
      "Iteration 684, loss = 0.07167019\n",
      "Iteration 685, loss = 0.07135391\n",
      "Iteration 686, loss = 0.07143703\n",
      "Iteration 687, loss = 0.07116704\n",
      "Iteration 688, loss = 0.07084715\n",
      "Iteration 689, loss = 0.07064234\n",
      "Iteration 690, loss = 0.07075682\n",
      "Iteration 691, loss = 0.07050401\n",
      "Iteration 692, loss = 0.07049240\n",
      "Iteration 693, loss = 0.07022492\n",
      "Iteration 694, loss = 0.07008599\n",
      "Iteration 695, loss = 0.07015037\n",
      "Iteration 696, loss = 0.07002035\n",
      "Iteration 697, loss = 0.06969806\n",
      "Iteration 698, loss = 0.06975831\n",
      "Iteration 699, loss = 0.06939835\n",
      "Iteration 700, loss = 0.06936017\n",
      "Iteration 701, loss = 0.06878889\n",
      "Iteration 702, loss = 0.06852808\n",
      "Iteration 703, loss = 0.06865244\n",
      "Iteration 704, loss = 0.06858746\n",
      "Iteration 705, loss = 0.06830672\n",
      "Iteration 706, loss = 0.06853397\n",
      "Iteration 707, loss = 0.06813452\n",
      "Iteration 708, loss = 0.06809897\n",
      "Iteration 709, loss = 0.06823189\n",
      "Iteration 710, loss = 0.06774644\n",
      "Iteration 711, loss = 0.06741265\n",
      "Iteration 712, loss = 0.06720948\n",
      "Iteration 713, loss = 0.06717744\n",
      "Iteration 714, loss = 0.06696489\n",
      "Iteration 715, loss = 0.06685009\n",
      "Iteration 716, loss = 0.06645845\n",
      "Iteration 717, loss = 0.06670891\n",
      "Iteration 718, loss = 0.06717243\n",
      "Iteration 719, loss = 0.06727059\n",
      "Iteration 720, loss = 0.06671427\n",
      "Iteration 721, loss = 0.06647139\n",
      "Iteration 722, loss = 0.06689545\n",
      "Iteration 723, loss = 0.06653485\n",
      "Iteration 724, loss = 0.06597714\n",
      "Iteration 725, loss = 0.06638090\n",
      "Iteration 726, loss = 0.06649352\n",
      "Iteration 727, loss = 0.06535167\n",
      "Iteration 728, loss = 0.06510510\n",
      "Iteration 729, loss = 0.06563895\n",
      "Iteration 730, loss = 0.06513035\n",
      "Iteration 731, loss = 0.06473170\n",
      "Iteration 732, loss = 0.06452245\n",
      "Iteration 733, loss = 0.06434573\n",
      "Iteration 734, loss = 0.06419013\n",
      "Iteration 735, loss = 0.06386872\n",
      "Iteration 736, loss = 0.06388832\n",
      "Iteration 737, loss = 0.06373368\n",
      "Iteration 738, loss = 0.06352026\n",
      "Iteration 739, loss = 0.06342125\n",
      "Iteration 740, loss = 0.06378035\n",
      "Iteration 741, loss = 0.06363460\n",
      "Iteration 742, loss = 0.06334699\n",
      "Iteration 743, loss = 0.06309764\n",
      "Iteration 744, loss = 0.06291985\n",
      "Iteration 745, loss = 0.06260521\n",
      "Iteration 746, loss = 0.06291809\n",
      "Iteration 747, loss = 0.06274510\n",
      "Iteration 748, loss = 0.06259258\n",
      "Iteration 749, loss = 0.06238089\n",
      "Iteration 750, loss = 0.06230316\n",
      "Iteration 751, loss = 0.06193917\n",
      "Iteration 752, loss = 0.06185750\n",
      "Iteration 753, loss = 0.06171077\n",
      "Iteration 754, loss = 0.06166298\n",
      "Iteration 755, loss = 0.06144514\n",
      "Iteration 756, loss = 0.06119503\n",
      "Iteration 757, loss = 0.06106246\n",
      "Iteration 758, loss = 0.06080542\n",
      "Iteration 759, loss = 0.06100867\n",
      "Iteration 760, loss = 0.06134379\n",
      "Iteration 761, loss = 0.06100951\n",
      "Iteration 762, loss = 0.06023733\n",
      "Iteration 763, loss = 0.06040089\n",
      "Iteration 764, loss = 0.06037891\n",
      "Iteration 765, loss = 0.06002836\n",
      "Iteration 766, loss = 0.06015514\n",
      "Iteration 767, loss = 0.06026013\n",
      "Iteration 768, loss = 0.05998020\n",
      "Iteration 769, loss = 0.05951405\n",
      "Iteration 770, loss = 0.05941285\n",
      "Iteration 771, loss = 0.05922260\n",
      "Iteration 772, loss = 0.05904829\n",
      "Iteration 773, loss = 0.05914015\n",
      "Iteration 774, loss = 0.05874940\n",
      "Iteration 775, loss = 0.05872171\n",
      "Iteration 776, loss = 0.05882009\n",
      "Iteration 777, loss = 0.05857002\n",
      "Iteration 778, loss = 0.05871590\n",
      "Iteration 779, loss = 0.05867369\n",
      "Iteration 780, loss = 0.05844266\n",
      "Iteration 781, loss = 0.05810721\n",
      "Iteration 782, loss = 0.05814752\n",
      "Iteration 783, loss = 0.05844178\n",
      "Iteration 784, loss = 0.05843533\n",
      "Iteration 785, loss = 0.05808884\n",
      "Iteration 786, loss = 0.05764732\n",
      "Iteration 787, loss = 0.05740939\n",
      "Iteration 788, loss = 0.05716649\n",
      "Iteration 789, loss = 0.05705073\n",
      "Iteration 790, loss = 0.05691106\n",
      "Iteration 791, loss = 0.05708008\n",
      "Iteration 792, loss = 0.05695181\n",
      "Iteration 793, loss = 0.05677964\n",
      "Iteration 794, loss = 0.05671287\n",
      "Iteration 795, loss = 0.05664486\n",
      "Iteration 796, loss = 0.05656566\n",
      "Iteration 797, loss = 0.05622447\n",
      "Iteration 798, loss = 0.05627023\n",
      "Iteration 799, loss = 0.05618700\n",
      "Iteration 800, loss = 0.05568262\n",
      "Iteration 801, loss = 0.05558482\n",
      "Iteration 802, loss = 0.05552203\n",
      "Iteration 803, loss = 0.05539556\n",
      "Iteration 804, loss = 0.05524381\n",
      "Iteration 805, loss = 0.05505757\n",
      "Iteration 806, loss = 0.05512416\n",
      "Iteration 807, loss = 0.05502625\n",
      "Iteration 808, loss = 0.05480725\n",
      "Iteration 809, loss = 0.05468898\n",
      "Iteration 810, loss = 0.05481120\n",
      "Iteration 811, loss = 0.05454425\n",
      "Iteration 812, loss = 0.05417290\n",
      "Iteration 813, loss = 0.05488448\n",
      "Iteration 814, loss = 0.05463310\n",
      "Iteration 815, loss = 0.05425422\n",
      "Iteration 816, loss = 0.05404833\n",
      "Iteration 817, loss = 0.05382562\n",
      "Iteration 818, loss = 0.05384630\n",
      "Iteration 819, loss = 0.05384883\n",
      "Iteration 820, loss = 0.05362709\n",
      "Iteration 821, loss = 0.05439132\n",
      "Iteration 822, loss = 0.05370366\n",
      "Iteration 823, loss = 0.05314755\n",
      "Iteration 824, loss = 0.05310532\n",
      "Iteration 825, loss = 0.05311554\n",
      "Iteration 826, loss = 0.05314338\n",
      "Iteration 827, loss = 0.05323622\n",
      "Iteration 828, loss = 0.05280184\n",
      "Iteration 829, loss = 0.05320579\n",
      "Iteration 830, loss = 0.05287814\n",
      "Iteration 831, loss = 0.05302358\n",
      "Iteration 832, loss = 0.05291312\n",
      "Iteration 833, loss = 0.05256632\n",
      "Iteration 834, loss = 0.05216100\n",
      "Iteration 835, loss = 0.05200683\n",
      "Iteration 836, loss = 0.05189504\n",
      "Iteration 837, loss = 0.05204160\n",
      "Iteration 838, loss = 0.05212015\n",
      "Iteration 839, loss = 0.05180412\n",
      "Iteration 840, loss = 0.05159524\n",
      "Iteration 841, loss = 0.05158398\n",
      "Iteration 842, loss = 0.05130164\n",
      "Iteration 843, loss = 0.05146276\n",
      "Iteration 844, loss = 0.05131007\n",
      "Iteration 845, loss = 0.05118697\n",
      "Iteration 846, loss = 0.05107361\n",
      "Iteration 847, loss = 0.05121708\n",
      "Iteration 848, loss = 0.05061087\n",
      "Iteration 849, loss = 0.05062122\n",
      "Iteration 850, loss = 0.05099827\n",
      "Iteration 851, loss = 0.05050848\n",
      "Iteration 852, loss = 0.05051533\n",
      "Iteration 853, loss = 0.05074029\n",
      "Iteration 854, loss = 0.05046687\n",
      "Iteration 855, loss = 0.05010456\n",
      "Iteration 856, loss = 0.04982528\n",
      "Iteration 857, loss = 0.04982285\n",
      "Iteration 858, loss = 0.04962452\n",
      "Iteration 859, loss = 0.05011197\n",
      "Iteration 860, loss = 0.05001237\n",
      "Iteration 861, loss = 0.04923617\n",
      "Iteration 862, loss = 0.04929723\n",
      "Iteration 863, loss = 0.04927049\n",
      "Iteration 864, loss = 0.04920280\n",
      "Iteration 865, loss = 0.04919825\n",
      "Iteration 866, loss = 0.04901518\n",
      "Iteration 867, loss = 0.04887578\n",
      "Iteration 868, loss = 0.04875928\n",
      "Iteration 869, loss = 0.04846263\n",
      "Iteration 870, loss = 0.04846754\n",
      "Iteration 871, loss = 0.04855501\n",
      "Iteration 872, loss = 0.04825341\n",
      "Iteration 873, loss = 0.04852024\n",
      "Iteration 874, loss = 0.04815971\n",
      "Iteration 875, loss = 0.04764591\n",
      "Iteration 876, loss = 0.04775018\n",
      "Iteration 877, loss = 0.04765508\n",
      "Iteration 878, loss = 0.04754485\n",
      "Iteration 879, loss = 0.04748268\n",
      "Iteration 880, loss = 0.04733322\n",
      "Iteration 881, loss = 0.04703826\n",
      "Iteration 882, loss = 0.04745381\n",
      "Iteration 883, loss = 0.04781357\n",
      "Iteration 884, loss = 0.04740388\n",
      "Iteration 885, loss = 0.04676939\n",
      "Iteration 886, loss = 0.04673856\n",
      "Iteration 887, loss = 0.04669915\n",
      "Iteration 888, loss = 0.04651921\n",
      "Iteration 889, loss = 0.04637538\n",
      "Iteration 890, loss = 0.04622023\n",
      "Iteration 891, loss = 0.04634912\n",
      "Iteration 892, loss = 0.04629366\n",
      "Iteration 893, loss = 0.04633981\n",
      "Iteration 894, loss = 0.04620006\n",
      "Iteration 895, loss = 0.04605862\n",
      "Iteration 896, loss = 0.04584670\n",
      "Iteration 897, loss = 0.04582775\n",
      "Iteration 898, loss = 0.04559174\n",
      "Iteration 899, loss = 0.04542152\n",
      "Iteration 900, loss = 0.04568263\n",
      "Iteration 901, loss = 0.04553384\n",
      "Iteration 902, loss = 0.04555917\n",
      "Iteration 903, loss = 0.04587585\n",
      "Iteration 904, loss = 0.04538732\n",
      "Iteration 905, loss = 0.04509378\n",
      "Iteration 906, loss = 0.04498290\n",
      "Iteration 907, loss = 0.04473903\n",
      "Iteration 908, loss = 0.04485989\n",
      "Iteration 909, loss = 0.04523472\n",
      "Iteration 910, loss = 0.04529325\n",
      "Iteration 911, loss = 0.04465098\n",
      "Iteration 912, loss = 0.04439855\n",
      "Iteration 913, loss = 0.04430936\n",
      "Iteration 914, loss = 0.04518588\n",
      "Iteration 915, loss = 0.04452177\n",
      "Iteration 916, loss = 0.04399292\n",
      "Iteration 917, loss = 0.04422703\n",
      "Iteration 918, loss = 0.04414100\n",
      "Iteration 919, loss = 0.04376147\n",
      "Iteration 920, loss = 0.04391560\n",
      "Iteration 921, loss = 0.04358344\n",
      "Iteration 922, loss = 0.04342977\n",
      "Iteration 923, loss = 0.04346184\n",
      "Iteration 924, loss = 0.04405324\n",
      "Iteration 925, loss = 0.04366477\n",
      "Iteration 926, loss = 0.04337087\n",
      "Iteration 927, loss = 0.04373534\n",
      "Iteration 928, loss = 0.04414887\n",
      "Iteration 929, loss = 0.04312954\n",
      "Iteration 930, loss = 0.04264573\n",
      "Iteration 931, loss = 0.04318298\n",
      "Iteration 932, loss = 0.04291797\n",
      "Iteration 933, loss = 0.04261848\n",
      "Iteration 934, loss = 0.04287509\n",
      "Iteration 935, loss = 0.04268231\n",
      "Iteration 936, loss = 0.04244346\n",
      "Iteration 937, loss = 0.04234001\n",
      "Iteration 938, loss = 0.04214651\n",
      "Iteration 939, loss = 0.04222682\n",
      "Iteration 940, loss = 0.04198140\n",
      "Iteration 941, loss = 0.04196215\n",
      "Iteration 942, loss = 0.04237251\n",
      "Iteration 943, loss = 0.04219507\n",
      "Iteration 944, loss = 0.04191987\n",
      "Iteration 945, loss = 0.04177303\n",
      "Iteration 946, loss = 0.04146318\n",
      "Iteration 947, loss = 0.04152150\n",
      "Iteration 948, loss = 0.04118836\n",
      "Iteration 949, loss = 0.04123534\n",
      "Iteration 950, loss = 0.04136153\n",
      "Iteration 951, loss = 0.04118363\n",
      "Iteration 952, loss = 0.04100606\n",
      "Iteration 953, loss = 0.04072004\n",
      "Iteration 954, loss = 0.04080455\n",
      "Iteration 955, loss = 0.04066680\n",
      "Iteration 956, loss = 0.04081958\n",
      "Iteration 957, loss = 0.04051526\n",
      "Iteration 958, loss = 0.04031515\n",
      "Iteration 959, loss = 0.04015261\n",
      "Iteration 960, loss = 0.04038614\n",
      "Iteration 961, loss = 0.04030905\n",
      "Iteration 962, loss = 0.04016682\n",
      "Iteration 963, loss = 0.04023884\n",
      "Iteration 964, loss = 0.04007515\n",
      "Iteration 965, loss = 0.03993662\n",
      "Iteration 966, loss = 0.03988869\n",
      "Iteration 967, loss = 0.03996216\n",
      "Iteration 968, loss = 0.03986732\n",
      "Iteration 969, loss = 0.03975942\n",
      "Iteration 970, loss = 0.03979108\n",
      "Iteration 971, loss = 0.03973679\n",
      "Iteration 972, loss = 0.03944443\n",
      "Iteration 973, loss = 0.03931684\n",
      "Iteration 974, loss = 0.03907770\n",
      "Iteration 975, loss = 0.03913378\n",
      "Iteration 976, loss = 0.03900467\n",
      "Iteration 977, loss = 0.03914970\n",
      "Iteration 978, loss = 0.03887161\n",
      "Iteration 979, loss = 0.03866817\n",
      "Iteration 980, loss = 0.03867564\n",
      "Iteration 981, loss = 0.03882055\n",
      "Iteration 982, loss = 0.03894078\n",
      "Iteration 983, loss = 0.03868621\n",
      "Iteration 984, loss = 0.03827585\n",
      "Iteration 985, loss = 0.03829241\n",
      "Iteration 986, loss = 0.03830106\n",
      "Iteration 987, loss = 0.03837365\n",
      "Iteration 988, loss = 0.03815414\n",
      "Iteration 989, loss = 0.03822881\n",
      "Iteration 990, loss = 0.03805508\n",
      "Iteration 991, loss = 0.03773517\n",
      "Iteration 992, loss = 0.03796057\n",
      "Iteration 993, loss = 0.03781629\n",
      "Iteration 994, loss = 0.03766911\n",
      "Iteration 995, loss = 0.03756771\n",
      "Iteration 996, loss = 0.03737817\n",
      "Iteration 997, loss = 0.03721773\n",
      "Iteration 998, loss = 0.03730197\n",
      "Iteration 999, loss = 0.03721008\n",
      "Iteration 1000, loss = 0.03712248\n"
     ]
    },
    {
     "name": "stderr",
     "output_type": "stream",
     "text": [
      "c:\\ProgramData\\anaconda3\\Lib\\site-packages\\sklearn\\neural_network\\_multilayer_perceptron.py:691: ConvergenceWarning: Stochastic Optimizer: Maximum iterations (1000) reached and the optimization hasn't converged yet.\n",
      "  warnings.warn(\n"
     ]
    },
    {
     "data": {
      "text/html": [
       "<style>#sk-container-id-13 {color: black;}#sk-container-id-13 pre{padding: 0;}#sk-container-id-13 div.sk-toggleable {background-color: white;}#sk-container-id-13 label.sk-toggleable__label {cursor: pointer;display: block;width: 100%;margin-bottom: 0;padding: 0.3em;box-sizing: border-box;text-align: center;}#sk-container-id-13 label.sk-toggleable__label-arrow:before {content: \"▸\";float: left;margin-right: 0.25em;color: #696969;}#sk-container-id-13 label.sk-toggleable__label-arrow:hover:before {color: black;}#sk-container-id-13 div.sk-estimator:hover label.sk-toggleable__label-arrow:before {color: black;}#sk-container-id-13 div.sk-toggleable__content {max-height: 0;max-width: 0;overflow: hidden;text-align: left;background-color: #f0f8ff;}#sk-container-id-13 div.sk-toggleable__content pre {margin: 0.2em;color: black;border-radius: 0.25em;background-color: #f0f8ff;}#sk-container-id-13 input.sk-toggleable__control:checked~div.sk-toggleable__content {max-height: 200px;max-width: 100%;overflow: auto;}#sk-container-id-13 input.sk-toggleable__control:checked~label.sk-toggleable__label-arrow:before {content: \"▾\";}#sk-container-id-13 div.sk-estimator input.sk-toggleable__control:checked~label.sk-toggleable__label {background-color: #d4ebff;}#sk-container-id-13 div.sk-label input.sk-toggleable__control:checked~label.sk-toggleable__label {background-color: #d4ebff;}#sk-container-id-13 input.sk-hidden--visually {border: 0;clip: rect(1px 1px 1px 1px);clip: rect(1px, 1px, 1px, 1px);height: 1px;margin: -1px;overflow: hidden;padding: 0;position: absolute;width: 1px;}#sk-container-id-13 div.sk-estimator {font-family: monospace;background-color: #f0f8ff;border: 1px dotted black;border-radius: 0.25em;box-sizing: border-box;margin-bottom: 0.5em;}#sk-container-id-13 div.sk-estimator:hover {background-color: #d4ebff;}#sk-container-id-13 div.sk-parallel-item::after {content: \"\";width: 100%;border-bottom: 1px solid gray;flex-grow: 1;}#sk-container-id-13 div.sk-label:hover label.sk-toggleable__label {background-color: #d4ebff;}#sk-container-id-13 div.sk-serial::before {content: \"\";position: absolute;border-left: 1px solid gray;box-sizing: border-box;top: 0;bottom: 0;left: 50%;z-index: 0;}#sk-container-id-13 div.sk-serial {display: flex;flex-direction: column;align-items: center;background-color: white;padding-right: 0.2em;padding-left: 0.2em;position: relative;}#sk-container-id-13 div.sk-item {position: relative;z-index: 1;}#sk-container-id-13 div.sk-parallel {display: flex;align-items: stretch;justify-content: center;background-color: white;position: relative;}#sk-container-id-13 div.sk-item::before, #sk-container-id-13 div.sk-parallel-item::before {content: \"\";position: absolute;border-left: 1px solid gray;box-sizing: border-box;top: 0;bottom: 0;left: 50%;z-index: -1;}#sk-container-id-13 div.sk-parallel-item {display: flex;flex-direction: column;z-index: 1;position: relative;background-color: white;}#sk-container-id-13 div.sk-parallel-item:first-child::after {align-self: flex-end;width: 50%;}#sk-container-id-13 div.sk-parallel-item:last-child::after {align-self: flex-start;width: 50%;}#sk-container-id-13 div.sk-parallel-item:only-child::after {width: 0;}#sk-container-id-13 div.sk-dashed-wrapped {border: 1px dashed gray;margin: 0 0.4em 0.5em 0.4em;box-sizing: border-box;padding-bottom: 0.4em;background-color: white;}#sk-container-id-13 div.sk-label label {font-family: monospace;font-weight: bold;display: inline-block;line-height: 1.2em;}#sk-container-id-13 div.sk-label-container {text-align: center;}#sk-container-id-13 div.sk-container {/* jupyter's `normalize.less` sets `[hidden] { display: none; }` but bootstrap.min.css set `[hidden] { display: none !important; }` so we also need the `!important` here to be able to override the default hidden behavior on the sphinx rendered scikit-learn.org. See: https://github.com/scikit-learn/scikit-learn/issues/21755 */display: inline-block !important;position: relative;}#sk-container-id-13 div.sk-text-repr-fallback {display: none;}</style><div id=\"sk-container-id-13\" class=\"sk-top-container\"><div class=\"sk-text-repr-fallback\"><pre>MLPClassifier(max_iter=1000, verbose=True)</pre><b>In a Jupyter environment, please rerun this cell to show the HTML representation or trust the notebook. <br />On GitHub, the HTML representation is unable to render, please try loading this page with nbviewer.org.</b></div><div class=\"sk-container\" hidden><div class=\"sk-item\"><div class=\"sk-estimator sk-toggleable\"><input class=\"sk-toggleable__control sk-hidden--visually\" id=\"sk-estimator-id-20\" type=\"checkbox\" checked><label for=\"sk-estimator-id-20\" class=\"sk-toggleable__label sk-toggleable__label-arrow\">MLPClassifier</label><div class=\"sk-toggleable__content\"><pre>MLPClassifier(max_iter=1000, verbose=True)</pre></div></div></div></div></div>"
      ],
      "text/plain": [
       "MLPClassifier(max_iter=1000, verbose=True)"
      ]
     },
     "execution_count": 74,
     "metadata": {},
     "output_type": "execute_result"
    }
   ],
   "source": [
    "#Default settings create 1 hidden layer with 100 neurons\n",
    "mlp_clf = MLPClassifier(hidden_layer_sizes=(100,), max_iter=1000, verbose=True)\n",
    "\n",
    "mlp_clf.fit(train_x, train_y)"
   ]
  },
  {
   "cell_type": "code",
   "execution_count": 75,
   "metadata": {},
   "outputs": [
    {
     "data": {
      "text/plain": [
       "0.9968847352024922"
      ]
     },
     "execution_count": 75,
     "metadata": {},
     "output_type": "execute_result"
    }
   ],
   "source": [
    "#Predict the train values\n",
    "train_y_pred = mlp_clf.predict(train_x)\n",
    "\n",
    "#Train accuracy\n",
    "accuracy_score(train_y, train_y_pred)"
   ]
  },
  {
   "cell_type": "code",
   "execution_count": 76,
   "metadata": {},
   "outputs": [
    {
     "data": {
      "text/plain": [
       "0.8478260869565217"
      ]
     },
     "execution_count": 76,
     "metadata": {},
     "output_type": "execute_result"
    }
   ],
   "source": [
    "#Predict the test values\n",
    "test_y_pred = mlp_clf.predict(test_x)\n",
    "\n",
    "#Test accuracy\n",
    "accuracy_score(test_y, test_y_pred)"
   ]
  },
  {
   "cell_type": "code",
   "execution_count": 77,
   "metadata": {},
   "outputs": [
    {
     "name": "stderr",
     "output_type": "stream",
     "text": [
      "c:\\ProgramData\\anaconda3\\Lib\\site-packages\\sklearn\\neural_network\\_multilayer_perceptron.py:1102: DataConversionWarning: A column-vector y was passed when a 1d array was expected. Please change the shape of y to (n_samples, ), for example using ravel().\n",
      "  y = column_or_1d(y, warn=True)\n",
      "c:\\ProgramData\\anaconda3\\Lib\\site-packages\\sklearn\\neural_network\\_multilayer_perceptron.py:691: ConvergenceWarning: Stochastic Optimizer: Maximum iterations (1000) reached and the optimization hasn't converged yet.\n",
      "  warnings.warn(\n"
     ]
    },
    {
     "data": {
      "text/html": [
       "<style>#sk-container-id-14 {color: black;}#sk-container-id-14 pre{padding: 0;}#sk-container-id-14 div.sk-toggleable {background-color: white;}#sk-container-id-14 label.sk-toggleable__label {cursor: pointer;display: block;width: 100%;margin-bottom: 0;padding: 0.3em;box-sizing: border-box;text-align: center;}#sk-container-id-14 label.sk-toggleable__label-arrow:before {content: \"▸\";float: left;margin-right: 0.25em;color: #696969;}#sk-container-id-14 label.sk-toggleable__label-arrow:hover:before {color: black;}#sk-container-id-14 div.sk-estimator:hover label.sk-toggleable__label-arrow:before {color: black;}#sk-container-id-14 div.sk-toggleable__content {max-height: 0;max-width: 0;overflow: hidden;text-align: left;background-color: #f0f8ff;}#sk-container-id-14 div.sk-toggleable__content pre {margin: 0.2em;color: black;border-radius: 0.25em;background-color: #f0f8ff;}#sk-container-id-14 input.sk-toggleable__control:checked~div.sk-toggleable__content {max-height: 200px;max-width: 100%;overflow: auto;}#sk-container-id-14 input.sk-toggleable__control:checked~label.sk-toggleable__label-arrow:before {content: \"▾\";}#sk-container-id-14 div.sk-estimator input.sk-toggleable__control:checked~label.sk-toggleable__label {background-color: #d4ebff;}#sk-container-id-14 div.sk-label input.sk-toggleable__control:checked~label.sk-toggleable__label {background-color: #d4ebff;}#sk-container-id-14 input.sk-hidden--visually {border: 0;clip: rect(1px 1px 1px 1px);clip: rect(1px, 1px, 1px, 1px);height: 1px;margin: -1px;overflow: hidden;padding: 0;position: absolute;width: 1px;}#sk-container-id-14 div.sk-estimator {font-family: monospace;background-color: #f0f8ff;border: 1px dotted black;border-radius: 0.25em;box-sizing: border-box;margin-bottom: 0.5em;}#sk-container-id-14 div.sk-estimator:hover {background-color: #d4ebff;}#sk-container-id-14 div.sk-parallel-item::after {content: \"\";width: 100%;border-bottom: 1px solid gray;flex-grow: 1;}#sk-container-id-14 div.sk-label:hover label.sk-toggleable__label {background-color: #d4ebff;}#sk-container-id-14 div.sk-serial::before {content: \"\";position: absolute;border-left: 1px solid gray;box-sizing: border-box;top: 0;bottom: 0;left: 50%;z-index: 0;}#sk-container-id-14 div.sk-serial {display: flex;flex-direction: column;align-items: center;background-color: white;padding-right: 0.2em;padding-left: 0.2em;position: relative;}#sk-container-id-14 div.sk-item {position: relative;z-index: 1;}#sk-container-id-14 div.sk-parallel {display: flex;align-items: stretch;justify-content: center;background-color: white;position: relative;}#sk-container-id-14 div.sk-item::before, #sk-container-id-14 div.sk-parallel-item::before {content: \"\";position: absolute;border-left: 1px solid gray;box-sizing: border-box;top: 0;bottom: 0;left: 50%;z-index: -1;}#sk-container-id-14 div.sk-parallel-item {display: flex;flex-direction: column;z-index: 1;position: relative;background-color: white;}#sk-container-id-14 div.sk-parallel-item:first-child::after {align-self: flex-end;width: 50%;}#sk-container-id-14 div.sk-parallel-item:last-child::after {align-self: flex-start;width: 50%;}#sk-container-id-14 div.sk-parallel-item:only-child::after {width: 0;}#sk-container-id-14 div.sk-dashed-wrapped {border: 1px dashed gray;margin: 0 0.4em 0.5em 0.4em;box-sizing: border-box;padding-bottom: 0.4em;background-color: white;}#sk-container-id-14 div.sk-label label {font-family: monospace;font-weight: bold;display: inline-block;line-height: 1.2em;}#sk-container-id-14 div.sk-label-container {text-align: center;}#sk-container-id-14 div.sk-container {/* jupyter's `normalize.less` sets `[hidden] { display: none; }` but bootstrap.min.css set `[hidden] { display: none !important; }` so we also need the `!important` here to be able to override the default hidden behavior on the sphinx rendered scikit-learn.org. See: https://github.com/scikit-learn/scikit-learn/issues/21755 */display: inline-block !important;position: relative;}#sk-container-id-14 div.sk-text-repr-fallback {display: none;}</style><div id=\"sk-container-id-14\" class=\"sk-top-container\"><div class=\"sk-text-repr-fallback\"><pre>MLPClassifier(hidden_layer_sizes=(50,), max_iter=1000)</pre><b>In a Jupyter environment, please rerun this cell to show the HTML representation or trust the notebook. <br />On GitHub, the HTML representation is unable to render, please try loading this page with nbviewer.org.</b></div><div class=\"sk-container\" hidden><div class=\"sk-item\"><div class=\"sk-estimator sk-toggleable\"><input class=\"sk-toggleable__control sk-hidden--visually\" id=\"sk-estimator-id-21\" type=\"checkbox\" checked><label for=\"sk-estimator-id-21\" class=\"sk-toggleable__label sk-toggleable__label-arrow\">MLPClassifier</label><div class=\"sk-toggleable__content\"><pre>MLPClassifier(hidden_layer_sizes=(50,), max_iter=1000)</pre></div></div></div></div></div>"
      ],
      "text/plain": [
       "MLPClassifier(hidden_layer_sizes=(50,), max_iter=1000)"
      ]
     },
     "execution_count": 77,
     "metadata": {},
     "output_type": "execute_result"
    }
   ],
   "source": [
    "#Increase neurons from 100 to 50\n",
    "mlp_clf = MLPClassifier(max_iter=1000, verbose=False,\n",
    "                        hidden_layer_sizes=(50,))\n",
    "\n",
    "mlp_clf.fit(train_x, train_y)"
   ]
  },
  {
   "cell_type": "code",
   "execution_count": 78,
   "metadata": {},
   "outputs": [
    {
     "data": {
      "text/plain": [
       "0.9766355140186916"
      ]
     },
     "execution_count": 78,
     "metadata": {},
     "output_type": "execute_result"
    }
   ],
   "source": [
    "#Predict the train values\n",
    "train_y_pred = mlp_clf.predict(train_x)\n",
    "\n",
    "#Train accuracy\n",
    "accuracy_score(train_y, train_y_pred)"
   ]
  },
  {
   "cell_type": "code",
   "execution_count": 79,
   "metadata": {},
   "outputs": [
    {
     "data": {
      "text/plain": [
       "0.8442028985507246"
      ]
     },
     "execution_count": 79,
     "metadata": {},
     "output_type": "execute_result"
    }
   ],
   "source": [
    "#Predict the test values\n",
    "test_y_pred = mlp_clf.predict(test_x)\n",
    "\n",
    "#Test accuracy\n",
    "accuracy_score(test_y, test_y_pred)"
   ]
  },
  {
   "cell_type": "markdown",
   "metadata": {},
   "source": [
    "### Deep Neural Network"
   ]
  },
  {
   "cell_type": "code",
   "execution_count": 80,
   "metadata": {},
   "outputs": [
    {
     "name": "stderr",
     "output_type": "stream",
     "text": [
      "c:\\ProgramData\\anaconda3\\Lib\\site-packages\\sklearn\\neural_network\\_multilayer_perceptron.py:1102: DataConversionWarning: A column-vector y was passed when a 1d array was expected. Please change the shape of y to (n_samples, ), for example using ravel().\n",
      "  y = column_or_1d(y, warn=True)\n"
     ]
    },
    {
     "data": {
      "text/html": [
       "<style>#sk-container-id-15 {color: black;}#sk-container-id-15 pre{padding: 0;}#sk-container-id-15 div.sk-toggleable {background-color: white;}#sk-container-id-15 label.sk-toggleable__label {cursor: pointer;display: block;width: 100%;margin-bottom: 0;padding: 0.3em;box-sizing: border-box;text-align: center;}#sk-container-id-15 label.sk-toggleable__label-arrow:before {content: \"▸\";float: left;margin-right: 0.25em;color: #696969;}#sk-container-id-15 label.sk-toggleable__label-arrow:hover:before {color: black;}#sk-container-id-15 div.sk-estimator:hover label.sk-toggleable__label-arrow:before {color: black;}#sk-container-id-15 div.sk-toggleable__content {max-height: 0;max-width: 0;overflow: hidden;text-align: left;background-color: #f0f8ff;}#sk-container-id-15 div.sk-toggleable__content pre {margin: 0.2em;color: black;border-radius: 0.25em;background-color: #f0f8ff;}#sk-container-id-15 input.sk-toggleable__control:checked~div.sk-toggleable__content {max-height: 200px;max-width: 100%;overflow: auto;}#sk-container-id-15 input.sk-toggleable__control:checked~label.sk-toggleable__label-arrow:before {content: \"▾\";}#sk-container-id-15 div.sk-estimator input.sk-toggleable__control:checked~label.sk-toggleable__label {background-color: #d4ebff;}#sk-container-id-15 div.sk-label input.sk-toggleable__control:checked~label.sk-toggleable__label {background-color: #d4ebff;}#sk-container-id-15 input.sk-hidden--visually {border: 0;clip: rect(1px 1px 1px 1px);clip: rect(1px, 1px, 1px, 1px);height: 1px;margin: -1px;overflow: hidden;padding: 0;position: absolute;width: 1px;}#sk-container-id-15 div.sk-estimator {font-family: monospace;background-color: #f0f8ff;border: 1px dotted black;border-radius: 0.25em;box-sizing: border-box;margin-bottom: 0.5em;}#sk-container-id-15 div.sk-estimator:hover {background-color: #d4ebff;}#sk-container-id-15 div.sk-parallel-item::after {content: \"\";width: 100%;border-bottom: 1px solid gray;flex-grow: 1;}#sk-container-id-15 div.sk-label:hover label.sk-toggleable__label {background-color: #d4ebff;}#sk-container-id-15 div.sk-serial::before {content: \"\";position: absolute;border-left: 1px solid gray;box-sizing: border-box;top: 0;bottom: 0;left: 50%;z-index: 0;}#sk-container-id-15 div.sk-serial {display: flex;flex-direction: column;align-items: center;background-color: white;padding-right: 0.2em;padding-left: 0.2em;position: relative;}#sk-container-id-15 div.sk-item {position: relative;z-index: 1;}#sk-container-id-15 div.sk-parallel {display: flex;align-items: stretch;justify-content: center;background-color: white;position: relative;}#sk-container-id-15 div.sk-item::before, #sk-container-id-15 div.sk-parallel-item::before {content: \"\";position: absolute;border-left: 1px solid gray;box-sizing: border-box;top: 0;bottom: 0;left: 50%;z-index: -1;}#sk-container-id-15 div.sk-parallel-item {display: flex;flex-direction: column;z-index: 1;position: relative;background-color: white;}#sk-container-id-15 div.sk-parallel-item:first-child::after {align-self: flex-end;width: 50%;}#sk-container-id-15 div.sk-parallel-item:last-child::after {align-self: flex-start;width: 50%;}#sk-container-id-15 div.sk-parallel-item:only-child::after {width: 0;}#sk-container-id-15 div.sk-dashed-wrapped {border: 1px dashed gray;margin: 0 0.4em 0.5em 0.4em;box-sizing: border-box;padding-bottom: 0.4em;background-color: white;}#sk-container-id-15 div.sk-label label {font-family: monospace;font-weight: bold;display: inline-block;line-height: 1.2em;}#sk-container-id-15 div.sk-label-container {text-align: center;}#sk-container-id-15 div.sk-container {/* jupyter's `normalize.less` sets `[hidden] { display: none; }` but bootstrap.min.css set `[hidden] { display: none !important; }` so we also need the `!important` here to be able to override the default hidden behavior on the sphinx rendered scikit-learn.org. See: https://github.com/scikit-learn/scikit-learn/issues/21755 */display: inline-block !important;position: relative;}#sk-container-id-15 div.sk-text-repr-fallback {display: none;}</style><div id=\"sk-container-id-15\" class=\"sk-top-container\"><div class=\"sk-text-repr-fallback\"><pre>MLPClassifier(hidden_layer_sizes=(50, 25, 10), max_iter=1000)</pre><b>In a Jupyter environment, please rerun this cell to show the HTML representation or trust the notebook. <br />On GitHub, the HTML representation is unable to render, please try loading this page with nbviewer.org.</b></div><div class=\"sk-container\" hidden><div class=\"sk-item\"><div class=\"sk-estimator sk-toggleable\"><input class=\"sk-toggleable__control sk-hidden--visually\" id=\"sk-estimator-id-22\" type=\"checkbox\" checked><label for=\"sk-estimator-id-22\" class=\"sk-toggleable__label sk-toggleable__label-arrow\">MLPClassifier</label><div class=\"sk-toggleable__content\"><pre>MLPClassifier(hidden_layer_sizes=(50, 25, 10), max_iter=1000)</pre></div></div></div></div></div>"
      ],
      "text/plain": [
       "MLPClassifier(hidden_layer_sizes=(50, 25, 10), max_iter=1000)"
      ]
     },
     "execution_count": 80,
     "metadata": {},
     "output_type": "execute_result"
    }
   ],
   "source": [
    "dnn_clf = MLPClassifier(hidden_layer_sizes=(50,25,10),\n",
    "                       max_iter=1000)\n",
    "\n",
    "dnn_clf.fit(train_x, train_y)"
   ]
  },
  {
   "cell_type": "code",
   "execution_count": 81,
   "metadata": {},
   "outputs": [
    {
     "data": {
      "text/plain": [
       "479"
      ]
     },
     "execution_count": 81,
     "metadata": {},
     "output_type": "execute_result"
    }
   ],
   "source": [
    "#Let's check the number of iterations:\n",
    "dnn_clf.n_iter_"
   ]
  },
  {
   "cell_type": "code",
   "execution_count": 82,
   "metadata": {},
   "outputs": [
    {
     "data": {
      "text/plain": [
       "5"
      ]
     },
     "execution_count": 82,
     "metadata": {},
     "output_type": "execute_result"
    }
   ],
   "source": [
    "#Let's check the number of layers:\n",
    "dnn_clf.n_layers_"
   ]
  },
  {
   "cell_type": "code",
   "execution_count": 83,
   "metadata": {},
   "outputs": [
    {
     "data": {
      "text/plain": [
       "1.0"
      ]
     },
     "execution_count": 83,
     "metadata": {},
     "output_type": "execute_result"
    }
   ],
   "source": [
    "#Predict the train values\n",
    "train_y_pred = dnn_clf.predict(train_x)\n",
    "\n",
    "#Train accuracy\n",
    "accuracy_score(train_y, train_y_pred)"
   ]
  },
  {
   "cell_type": "code",
   "execution_count": 84,
   "metadata": {},
   "outputs": [
    {
     "data": {
      "text/plain": [
       "0.8405797101449275"
      ]
     },
     "execution_count": 84,
     "metadata": {},
     "output_type": "execute_result"
    }
   ],
   "source": [
    "#Predict the test values\n",
    "test_y_pred = dnn_clf.predict(test_x)\n",
    "\n",
    "#Test accuracy\n",
    "accuracy_score(test_y, test_y_pred)"
   ]
  },
  {
   "cell_type": "code",
   "execution_count": 85,
   "metadata": {},
   "outputs": [
    {
     "name": "stderr",
     "output_type": "stream",
     "text": [
      "c:\\ProgramData\\anaconda3\\Lib\\site-packages\\sklearn\\neural_network\\_multilayer_perceptron.py:1102: DataConversionWarning: A column-vector y was passed when a 1d array was expected. Please change the shape of y to (n_samples, ), for example using ravel().\n",
      "  y = column_or_1d(y, warn=True)\n"
     ]
    },
    {
     "data": {
      "text/html": [
       "<style>#sk-container-id-16 {color: black;}#sk-container-id-16 pre{padding: 0;}#sk-container-id-16 div.sk-toggleable {background-color: white;}#sk-container-id-16 label.sk-toggleable__label {cursor: pointer;display: block;width: 100%;margin-bottom: 0;padding: 0.3em;box-sizing: border-box;text-align: center;}#sk-container-id-16 label.sk-toggleable__label-arrow:before {content: \"▸\";float: left;margin-right: 0.25em;color: #696969;}#sk-container-id-16 label.sk-toggleable__label-arrow:hover:before {color: black;}#sk-container-id-16 div.sk-estimator:hover label.sk-toggleable__label-arrow:before {color: black;}#sk-container-id-16 div.sk-toggleable__content {max-height: 0;max-width: 0;overflow: hidden;text-align: left;background-color: #f0f8ff;}#sk-container-id-16 div.sk-toggleable__content pre {margin: 0.2em;color: black;border-radius: 0.25em;background-color: #f0f8ff;}#sk-container-id-16 input.sk-toggleable__control:checked~div.sk-toggleable__content {max-height: 200px;max-width: 100%;overflow: auto;}#sk-container-id-16 input.sk-toggleable__control:checked~label.sk-toggleable__label-arrow:before {content: \"▾\";}#sk-container-id-16 div.sk-estimator input.sk-toggleable__control:checked~label.sk-toggleable__label {background-color: #d4ebff;}#sk-container-id-16 div.sk-label input.sk-toggleable__control:checked~label.sk-toggleable__label {background-color: #d4ebff;}#sk-container-id-16 input.sk-hidden--visually {border: 0;clip: rect(1px 1px 1px 1px);clip: rect(1px, 1px, 1px, 1px);height: 1px;margin: -1px;overflow: hidden;padding: 0;position: absolute;width: 1px;}#sk-container-id-16 div.sk-estimator {font-family: monospace;background-color: #f0f8ff;border: 1px dotted black;border-radius: 0.25em;box-sizing: border-box;margin-bottom: 0.5em;}#sk-container-id-16 div.sk-estimator:hover {background-color: #d4ebff;}#sk-container-id-16 div.sk-parallel-item::after {content: \"\";width: 100%;border-bottom: 1px solid gray;flex-grow: 1;}#sk-container-id-16 div.sk-label:hover label.sk-toggleable__label {background-color: #d4ebff;}#sk-container-id-16 div.sk-serial::before {content: \"\";position: absolute;border-left: 1px solid gray;box-sizing: border-box;top: 0;bottom: 0;left: 50%;z-index: 0;}#sk-container-id-16 div.sk-serial {display: flex;flex-direction: column;align-items: center;background-color: white;padding-right: 0.2em;padding-left: 0.2em;position: relative;}#sk-container-id-16 div.sk-item {position: relative;z-index: 1;}#sk-container-id-16 div.sk-parallel {display: flex;align-items: stretch;justify-content: center;background-color: white;position: relative;}#sk-container-id-16 div.sk-item::before, #sk-container-id-16 div.sk-parallel-item::before {content: \"\";position: absolute;border-left: 1px solid gray;box-sizing: border-box;top: 0;bottom: 0;left: 50%;z-index: -1;}#sk-container-id-16 div.sk-parallel-item {display: flex;flex-direction: column;z-index: 1;position: relative;background-color: white;}#sk-container-id-16 div.sk-parallel-item:first-child::after {align-self: flex-end;width: 50%;}#sk-container-id-16 div.sk-parallel-item:last-child::after {align-self: flex-start;width: 50%;}#sk-container-id-16 div.sk-parallel-item:only-child::after {width: 0;}#sk-container-id-16 div.sk-dashed-wrapped {border: 1px dashed gray;margin: 0 0.4em 0.5em 0.4em;box-sizing: border-box;padding-bottom: 0.4em;background-color: white;}#sk-container-id-16 div.sk-label label {font-family: monospace;font-weight: bold;display: inline-block;line-height: 1.2em;}#sk-container-id-16 div.sk-label-container {text-align: center;}#sk-container-id-16 div.sk-container {/* jupyter's `normalize.less` sets `[hidden] { display: none; }` but bootstrap.min.css set `[hidden] { display: none !important; }` so we also need the `!important` here to be able to override the default hidden behavior on the sphinx rendered scikit-learn.org. See: https://github.com/scikit-learn/scikit-learn/issues/21755 */display: inline-block !important;position: relative;}#sk-container-id-16 div.sk-text-repr-fallback {display: none;}</style><div id=\"sk-container-id-16\" class=\"sk-top-container\"><div class=\"sk-text-repr-fallback\"><pre>MLPClassifier(early_stopping=True, hidden_layer_sizes=(50, 25, 10),\n",
       "              max_iter=1000)</pre><b>In a Jupyter environment, please rerun this cell to show the HTML representation or trust the notebook. <br />On GitHub, the HTML representation is unable to render, please try loading this page with nbviewer.org.</b></div><div class=\"sk-container\" hidden><div class=\"sk-item\"><div class=\"sk-estimator sk-toggleable\"><input class=\"sk-toggleable__control sk-hidden--visually\" id=\"sk-estimator-id-23\" type=\"checkbox\" checked><label for=\"sk-estimator-id-23\" class=\"sk-toggleable__label sk-toggleable__label-arrow\">MLPClassifier</label><div class=\"sk-toggleable__content\"><pre>MLPClassifier(early_stopping=True, hidden_layer_sizes=(50, 25, 10),\n",
       "              max_iter=1000)</pre></div></div></div></div></div>"
      ],
      "text/plain": [
       "MLPClassifier(early_stopping=True, hidden_layer_sizes=(50, 25, 10),\n",
       "              max_iter=1000)"
      ]
     },
     "execution_count": 85,
     "metadata": {},
     "output_type": "execute_result"
    }
   ],
   "source": [
    "dnn_clf = MLPClassifier(hidden_layer_sizes=(50,25,10),\n",
    "                       max_iter=1000,\n",
    "                       early_stopping=True)\n",
    "\n",
    "dnn_clf.fit(train_x, train_y)"
   ]
  },
  {
   "cell_type": "code",
   "execution_count": 86,
   "metadata": {},
   "outputs": [
    {
     "data": {
      "text/plain": [
       "24"
      ]
     },
     "execution_count": 86,
     "metadata": {},
     "output_type": "execute_result"
    }
   ],
   "source": [
    "#Let's check the number of iterations:\n",
    "dnn_clf.n_iter_"
   ]
  },
  {
   "cell_type": "code",
   "execution_count": 87,
   "metadata": {},
   "outputs": [
    {
     "data": {
      "text/plain": [
       "0.8489096573208723"
      ]
     },
     "execution_count": 87,
     "metadata": {},
     "output_type": "execute_result"
    }
   ],
   "source": [
    "#Predict the train values\n",
    "train_y_pred = dnn_clf.predict(train_x)\n",
    "\n",
    "#Train accuracy\n",
    "accuracy_score(train_y, train_y_pred)"
   ]
  },
  {
   "cell_type": "code",
   "execution_count": 88,
   "metadata": {},
   "outputs": [
    {
     "data": {
      "text/plain": [
       "0.855072463768116"
      ]
     },
     "execution_count": 88,
     "metadata": {},
     "output_type": "execute_result"
    }
   ],
   "source": [
    "#Predict the test values\n",
    "test_y_pred = dnn_clf.predict(test_x)\n",
    "\n",
    "#Test accuracy\n",
    "accuracy_score(test_y, test_y_pred)"
   ]
  },
  {
   "cell_type": "code",
   "execution_count": null,
   "metadata": {},
   "outputs": [],
   "source": []
  }
 ],
 "metadata": {
  "kernelspec": {
   "display_name": "base",
   "language": "python",
   "name": "python3"
  },
  "language_info": {
   "codemirror_mode": {
    "name": "ipython",
    "version": 3
   },
   "file_extension": ".py",
   "mimetype": "text/x-python",
   "name": "python",
   "nbconvert_exporter": "python",
   "pygments_lexer": "ipython3",
   "version": "3.11.5"
  }
 },
 "nbformat": 4,
 "nbformat_minor": 2
}
